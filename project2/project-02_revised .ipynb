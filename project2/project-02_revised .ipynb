{
 "cells": [
  {
   "cell_type": "markdown",
   "metadata": {},
   "source": [
    "# Project 02 - Due Friday, November 11 at 12pm\n",
    "\n",
    "*Objectives*: Gain experience loading a transactional dataset into a relational database model you define yourself and using SQL to explore its contents. Transform the data into a star schema, documenting the schema visually, and explore the transformed data analytically by writing and executing a number of SQL queries using common syntax and functions and describing your findings.  Gain practice working on these tasks with a partner.\n",
    "\n",
    "*Grading criteria*: The tasks should all be completed, and questions should all be answered with SQL queries, diagrams, and charts in the space provided, unless a text answer is requested.  The notebook itself should be completely reproducible at datanotebook.org, from start to finish: another person should be able to use the same code to obtain the same results as yours.  Note that you will receive no more than partial credit if you do not add text/markdown cells explaining your thinking at each major step in each problem.\n",
    "\n",
    "*Attestation*: **Work in pairs**.  At the end of your submitted notebook, identify the work each partner performed and attest that each contributed substantially to the work.\n",
    "\n",
    "*Deadline*: Friday, November 11, 12pm.  One member of each pair must submit your notebook to Blackboard; you should not both submit it separately.  You may each push a copy to your own GitHub repository.\n",
    "\n",
    "\n",
    "## Setup - select and obtain data\n",
    "\n",
    "The US City Open Data Census has a variety of [transactional data from all over the country](http://us-city.census.okfn.org/).  Select one topic and one city from this Census, download the data, and explain your reason for this choice before proceeding.  Provide a link to the web page for the data set you've chosen.\n",
    "\n",
    "I strongly encourage you to select a dataset from among the following topics:  Crime, Property Assessment, Campaign Finance Contributions, Service Requests (311), and Web Analytics.\n",
    "\n",
    "By *transactional* data I mean records at the grain of one event per business process.  In the case of Service Requests (311), for example, that would require data at the level of each individual report of a service request.  If this isn't clear, think about the bike trip data - each individual ride was included - and look for data at that level of event/process specificity.  Avoid data like the Connecticut boating data, which was summarized by year, not individual transactions.\n",
    "\n",
    "Please aim for a dataset of at least 10,000 individual records, but less than 250,000 records.  A little more or a little less is okay, but try to stay within these limits."
   ]
  },
  {
   "cell_type": "markdown",
   "metadata": {},
   "source": [
    "**Dataset: Mesa RMS Incident Data**\n",
    "http://open.mesaaz.gov/dataviews/225897/city-of-mesa-rms-crime-data-table/\n",
    "\n",
    "The incident data recorded information of each reports, i.e., transactional. And the size of this table is appropriate."
   ]
  },
  {
   "cell_type": "code",
   "execution_count": 2,
   "metadata": {
    "collapsed": false
   },
   "outputs": [
    {
     "name": "stdout",
     "output_type": "stream",
     "text": [
      "--2016-11-28 04:39:34--  http://open.mesaaz.gov/rest/datastreams/220029/data.csv\n",
      "Resolving open.mesaaz.gov (open.mesaaz.gov)... 54.241.30.211, 54.241.249.48\n",
      "Connecting to open.mesaaz.gov (open.mesaaz.gov)|54.241.30.211|:80... connected.\n",
      "HTTP request sent, awaiting response... 200 OK\n",
      "Length: unspecified [text/csv]\n",
      "Saving to: ‘data.csv’\n",
      "\n",
      "data.csv                [          <=>         ]  28.19M  12.9MB/s   in 2.2s   \n",
      "\n",
      "2016-11-28 04:39:53 (12.9 MB/s) - ‘data.csv’ saved [29564531]\n",
      "\n"
     ]
    }
   ],
   "source": [
    "!wget http://open.mesaaz.gov/rest/datastreams/220029/data.csv"
   ]
  },
  {
   "cell_type": "code",
   "execution_count": 3,
   "metadata": {
    "collapsed": false
   },
   "outputs": [],
   "source": [
    "!mv data.csv p2.csv"
   ]
  },
  {
   "cell_type": "code",
   "execution_count": 4,
   "metadata": {
    "collapsed": false
   },
   "outputs": [
    {
     "name": "stdout",
     "output_type": "stream",
     "text": [
      "224711 p2.csv\r\n"
     ]
    }
   ],
   "source": [
    "!wc -l p2.csv"
   ]
  },
  {
   "cell_type": "markdown",
   "metadata": {},
   "source": [
    "## Problem 1 - examine the data (20 points)\n",
    "\n",
    "Use `csvstat`, `pandas`, or other tools as you see fit and observe the contents of your dataset.  Review important points from any metadata provided.  Describe what you see:  What do the columns mean?  Are there null values?  Which columns interest you the most?  Which columns present some opportunities, challenges, or questions you would like to ask?"
   ]
  },
  {
   "cell_type": "code",
   "execution_count": 5,
   "metadata": {
    "collapsed": false
   },
   "outputs": [
    {
     "name": "stdout",
     "output_type": "stream",
     "text": [
      "  1: CRIME_ID\r\n",
      "  2: CRIME_TYPE\r\n",
      "  3: REPORT_DATE\r\n",
      "  4: OCCURRED_DATE\r\n",
      "  5: STREET_NUMBER\r\n",
      "  6: STREET\r\n",
      "  7: CITY\r\n",
      "  8: STATE\r\n",
      "  9: IBRCODE\r\n",
      " 10: IBRDESC\r\n",
      " 11: \r\n"
     ]
    }
   ],
   "source": [
    "!csvcut -n p2.csv"
   ]
  },
  {
   "cell_type": "code",
   "execution_count": 6,
   "metadata": {
    "collapsed": false,
    "scrolled": true
   },
   "outputs": [
    {
     "name": "stdout",
     "output_type": "stream",
     "text": [
      "  1. CRIME_ID\n",
      "\t<class 'int'>\n",
      "\tNulls: False\n",
      "\tMin: 19760013373\n",
      "\tMax: 99999999999\n",
      "\tSum: 4526875611345035\n",
      "\tMean: 20145412359.685974\n",
      "\tMedian: 20143070618.5\n",
      "\tStandard Deviation: 168934333.5827806\n",
      "\tUnique values: 222668\n",
      "\t5 most frequent values:\n",
      "\t\t20131020145:\t5\n",
      "\t\t20132910773:\t4\n",
      "\t\t20160900332:\t4\n",
      "\t\t20142590732:\t4\n",
      "\t\t20160910049:\t4\n",
      "  2. CRIME_TYPE\n",
      "\t<class 'str'>\n",
      "\tNulls: False\n",
      "\tUnique values: 513\n",
      "\t5 most frequent values:\n",
      "\t\tWARRANT ARREST:\t19030\n",
      "\t\tTHEFT:\t15703\n",
      "\t\tWARRANT ARREST-FOJ:\t12686\n",
      "\t\tSHOPLIFTING:\t11356\n",
      "\t\tCRIMINAL DAMAGE:\t10739\n",
      "\tMax length: 59\n",
      "  3. REPORT_DATE\n",
      "\t<class 'datetime.datetime'>\n",
      "\tNulls: False\n",
      "\tMin: 2013-01-31 00:00:00\n",
      "\tMax: 2016-08-31 00:00:00\n",
      "\tUnique values: 5163\n",
      "\t5 most frequent values:\n",
      "\t\t2016-03-31 00:00:00:\t359\n",
      "\t\t2015-12-24 00:00:00:\t318\n",
      "\t\t2016-03-30 00:00:00:\t317\n",
      "\t\t2015-12-17 00:00:00:\t263\n",
      "\t\t2015-06-23 00:00:00:\t252\n",
      "  4. OCCURRED_DATE\n",
      "\t<class 'datetime.datetime'>\n",
      "\tNulls: True\n",
      "\tMin: 1953-01-01 00:00:00\n",
      "\tMax: 2016-08-31 00:00:00\n",
      "\tUnique values: 5499\n",
      "\t5 most frequent values:\n",
      "\t\t2015-12-24 00:00:00:\t329\n",
      "\t\t2016-03-31 00:00:00:\t299\n",
      "\t\t2016-03-30 00:00:00:\t287\n",
      "\t\t2015-12-17 00:00:00:\t257\n",
      "\t\t2015-06-23 00:00:00:\t236\n",
      "  5. STREET_NUMBER\n",
      "\t<class 'int'>\n",
      "\tNulls: False\n",
      "\tMin: 0\n",
      "\tMax: 48000\n",
      "\tSum: 493770900\n",
      "\tMean: 2197.3694984646877\n",
      "\tMedian: 1400.0\n",
      "\tStandard Deviation: 2517.7674143827862\n",
      "\tUnique values: 183\n",
      "\t5 most frequent values:\n",
      "\t\t200:\t13892\n",
      "\t\t400:\t12121\n",
      "\t\t1200:\t10266\n",
      "\t\t300:\t9914\n",
      "\t\t2000:\t9363\n",
      "  6. STREET\n",
      "\t<class 'str'>\n",
      "\tNulls: True\n",
      "\tUnique values: 3779\n",
      "\t5 most frequent values:\n",
      "\t\tE MAIN ST:\t11053\n",
      "\t\tW MAIN ST:\t8382\n",
      "\t\tS COUNTRY CLUB DR:\t7825\n",
      "\t\tN ROBSON:\t7675\n",
      "\t\tE BROADWAY RD:\t6824\n",
      "\tMax length: 55\n",
      "  7. CITY\n",
      "\t<class 'str'>\n",
      "\tNulls: True\n",
      "\tUnique values: 131\n",
      "\t5 most frequent values:\n",
      "\t\tMESA:\t218753\n",
      "\t\tMARICOPA_COUNTY:\t2824\n",
      "\t\tTEMPE:\t1042\n",
      "\t\tPHOENIX:\t507\n",
      "\t\tGILBERT:\t361\n",
      "\tMax length: 20\n",
      "  8. STATE\n",
      "\t<class 'str'>\n",
      "\tNulls: True\n",
      "\tUnique values: 31\n",
      "\t5 most frequent values:\n",
      "\t\tAZ:\t224323\n",
      "\t\tCA:\t17\n",
      "\t\tIL:\t10\n",
      "\t\tTX:\t9\n",
      "\t\tNV:\t7\n",
      "\tMax length: 4\n",
      "  9. IBRCODE\n",
      "\t<class 'str'>\n",
      "\tNulls: True\n",
      "\tUnique values: 54\n",
      "\t5 most frequent values:\n",
      "\t\t999:\t85395\n",
      "\t\t35A:\t12346\n",
      "\t\t13B:\t12130\n",
      "\t\t23C:\t11624\n",
      "\t\t290:\t11581\n",
      "\tMax length: 4\n",
      " 10. IBRDESC\n",
      "\t<class 'str'>\n",
      "\tNulls: True\n",
      "\tUnique values: 83\n",
      "\t5 most frequent values:\n",
      "\t\tNOT REPORTABLE:\t85244\n",
      "\t\tDRUG/NARCOTIC VIOLATION:\t12439\n",
      "\t\tSIMPLE ASSAULT:\t12130\n",
      "\t\tDESTRUCTION/DAMAGE/VANDALISM OF PROPERTY:\t11705\n",
      "\t\tSHOPLIFTING:\t11624\n",
      "\tMax length: 43\n",
      " 11. _unnamed\n",
      "\t<class 'int'>\n",
      "\tNulls: True\n",
      "\tValues: 2016\n",
      "\n",
      "Row count: 224710\n"
     ]
    }
   ],
   "source": [
    "!csvstat p2.csv"
   ]
  },
  {
   "cell_type": "code",
   "execution_count": 62,
   "metadata": {
    "collapsed": false
   },
   "outputs": [],
   "source": [
    "import pandas as pd\n",
    "mesa = pd.read_csv('p2.csv', header=0)"
   ]
  },
  {
   "cell_type": "code",
   "execution_count": 8,
   "metadata": {
    "collapsed": false
   },
   "outputs": [
    {
     "data": {
      "text/plain": [
       "CRIME_ID         224710\n",
       "CRIME_TYPE       224710\n",
       "REPORT_DATE      224710\n",
       "OCCURRED_DATE    218659\n",
       "STREET_NUMBER    224710\n",
       "STREET           224405\n",
       "CITY             224409\n",
       "STATE            224412\n",
       "IBRCODE          224707\n",
       "IBRDESC          224707\n",
       "Unnamed: 10           1\n",
       "dtype: int64"
      ]
     },
     "execution_count": 8,
     "metadata": {},
     "output_type": "execute_result"
    }
   ],
   "source": [
    "mesa.count()"
   ]
  },
  {
   "cell_type": "markdown",
   "metadata": {},
   "source": [
    "### columns meaning &missing value\n",
    "1: CRIME_ID : Id of the incident report   (0)  \n",
    "2: CRIME_TYPE : Type of this incident     (0)  \n",
    "3: REPORT_DATE : Date of report    (0)  \n",
    "4: OCCURRED_DATE : Date of the occurrence of the incident  (6051)  \n",
    "5: STREET_NUMBER : Street number   (0)  \n",
    "6: STREET : Name of the street   (296)  \n",
    "7: CITY :  Name of the city      (301)  \n",
    "8: STATE : Name of the state     (298)  \n",
    "9: IBRCODE : Incident code in Incident-Based Reporting system   (3)  \n",
    "10: IBRDESC : Description of the incident in Incident-Based Reporting system      (3)  \n",
    "11:            : This column has no name. We will discuss it later in Problem2    (224709)  \n",
    " \n",
    "There are eleven columns in the metadata. They describes the incident id, crime type, report/occurred date, location, and Incident-Based Reporting (IBR) information. There are null values. Csvstat shows that there are 224710 records while the dataframe shows only 224706 records. Also some crime records do not have address information or ibr information. But we don't think null value could hurt the model so we keep them.\n",
    "  \n",
    "We are interest in CRIME_TYPE, OCCURRED_DATE, STREET_NUMBER, and STREET because these columns provide information about time and location of the crime. They may give us some insight."
   ]
  },
  {
   "cell_type": "markdown",
   "metadata": {},
   "source": [
    "## Problem 2 - define a database model, load the data, and explore (20 points)\n",
    "\n",
    "Based on what you found above, create and connect to a new database, define a database table in it, and load this dataset into it.  You may use either of the methods for this step you have seen in earlier class notebooks.  You may choose to eliminate variables/columns if they are not relevant or interesting to you - explain your reasoning if you do.  Either way, you should load a majority of the columns present in the source dataset as it is in its raw form into the database, and all of its rows.\n",
    "\n",
    "Once your data has loaded successfully, run a `COUNT(*)` query to verify that all the data has loaded correctly.\n",
    "\n",
    "Explore the data to zero in on a few themes you would like to further study analytically.  Discuss columns that present opportunities for extraction into dimensions, and identify the specific columns that contain facts you want to measure."
   ]
  },
  {
   "cell_type": "markdown",
   "metadata": {},
   "source": [
    "**Date, address, ibr information could be dimensions. Actually there is no columns that contains facts which could be aggregated. So we decide to use  count and group by function to do the analysis. **"
   ]
  },
  {
   "cell_type": "code",
   "execution_count": 2,
   "metadata": {
    "collapsed": false
   },
   "outputs": [
    {
     "name": "stderr",
     "output_type": "stream",
     "text": [
      "/opt/conda/lib/python3.5/site-packages/IPython/config.py:13: ShimWarning: The `IPython.config` package has been deprecated. You should import from traitlets.config instead.\n",
      "  \"You should import from traitlets.config instead.\", ShimWarning)\n",
      "/opt/conda/lib/python3.5/site-packages/IPython/utils/traitlets.py:5: UserWarning: IPython.utils.traitlets has moved to a top-level traitlets package.\n",
      "  warn(\"IPython.utils.traitlets has moved to a top-level traitlets package.\")\n"
     ]
    }
   ],
   "source": [
    "%load_ext sql"
   ]
  },
  {
   "cell_type": "code",
   "execution_count": 3,
   "metadata": {
    "collapsed": false
   },
   "outputs": [
    {
     "name": "stdout",
     "output_type": "stream",
     "text": [
      "[sudo] password for jovyan: Restarting PostgreSQL 9.5 database server: main.\n"
     ]
    }
   ],
   "source": [
    "!echo 'redspot' | sudo -S service postgresql restart"
   ]
  },
  {
   "cell_type": "code",
   "execution_count": 11,
   "metadata": {
    "collapsed": false
   },
   "outputs": [],
   "source": [
    "!createdb -U dbuser project02"
   ]
  },
  {
   "cell_type": "code",
   "execution_count": 4,
   "metadata": {
    "collapsed": false
   },
   "outputs": [
    {
     "data": {
      "text/plain": [
       "'Connected: dbuser@project02'"
      ]
     },
     "execution_count": 4,
     "metadata": {},
     "output_type": "execute_result"
    }
   ],
   "source": [
    "%sql postgresql://dbuser@localhost:5432/project02"
   ]
  },
  {
   "cell_type": "code",
   "execution_count": 13,
   "metadata": {
    "collapsed": false
   },
   "outputs": [
    {
     "name": "stdout",
     "output_type": "stream",
     "text": [
      "Done.\n",
      "Done.\n"
     ]
    },
    {
     "data": {
      "text/plain": [
       "[]"
      ]
     },
     "execution_count": 13,
     "metadata": {},
     "output_type": "execute_result"
    }
   ],
   "source": [
    "%%sql\n",
    "DROP TABLE IF EXISTS crime_facts;\n",
    "CREATE TABLE crime_facts (\n",
    "    CRIME_ID       CHAR(11),\n",
    "    CRIME_TYPE     VARCHAR(64),\n",
    "    REPORT_DATE    DATE,\n",
    "    OCCURRED_DATE  VARCHAR(30),\n",
    "    STREET_NUMBER  VARCHAR(5),\n",
    "    STREET         VARCHAR(64),\n",
    "    CITY           VARCHAR(30),\n",
    "    STATE          CHAR(2),\n",
    "    IBRCODE        VARCHAR(10),\n",
    "    IBRDESC        VARCHAR(64),\n",
    "    extra          VARCHAR(4)\n",
    ");"
   ]
  },
  {
   "cell_type": "markdown",
   "metadata": {},
   "source": [
    "Load csv to a table in database p2."
   ]
  },
  {
   "cell_type": "code",
   "execution_count": 14,
   "metadata": {
    "collapsed": false
   },
   "outputs": [
    {
     "name": "stdout",
     "output_type": "stream",
     "text": [
      "/home/jovyan/work\r\n"
     ]
    }
   ],
   "source": [
    "!pwd"
   ]
  },
  {
   "cell_type": "code",
   "execution_count": 15,
   "metadata": {
    "collapsed": false
   },
   "outputs": [
    {
     "name": "stdout",
     "output_type": "stream",
     "text": [
      "224710 rows affected.\n"
     ]
    },
    {
     "data": {
      "text/plain": [
       "[]"
      ]
     },
     "execution_count": 15,
     "metadata": {},
     "output_type": "execute_result"
    }
   ],
   "source": [
    "%%sql\n",
    "COPY crime_facts FROM '/home/jovyan/work/p2.csv'\n",
    "CSV\n",
    "HEADER\n",
    "QUOTE '\"'\n",
    "DELIMITER ',';"
   ]
  },
  {
   "cell_type": "markdown",
   "metadata": {},
   "source": [
    "Because there are 6051 rows in OCCURRED_DATE are missing value and not in DATE format, we decide to transform them into '00/00/0000'\n"
   ]
  },
  {
   "cell_type": "code",
   "execution_count": 16,
   "metadata": {
    "collapsed": false
   },
   "outputs": [
    {
     "name": "stdout",
     "output_type": "stream",
     "text": [
      "6051 rows affected.\n"
     ]
    },
    {
     "data": {
      "text/plain": [
       "[]"
      ]
     },
     "execution_count": 16,
     "metadata": {},
     "output_type": "execute_result"
    }
   ],
   "source": [
    "%%sql\n",
    "UPDATE crime_facts\n",
    "set OCCURRED_DATE='01/01/1111'\n",
    "WHERE OCCURRED_DATE = '';"
   ]
  },
  {
   "cell_type": "code",
   "execution_count": 17,
   "metadata": {
    "collapsed": false
   },
   "outputs": [
    {
     "name": "stdout",
     "output_type": "stream",
     "text": [
      "Done.\n"
     ]
    },
    {
     "data": {
      "text/plain": [
       "[]"
      ]
     },
     "execution_count": 17,
     "metadata": {},
     "output_type": "execute_result"
    }
   ],
   "source": [
    "%%sql\n",
    "ALTER TABLE crime_facts\n",
    "ALTER COLUMN OCCURRED_DATE SET DATA TYPE DATE USING occurred_date::date"
   ]
  },
  {
   "cell_type": "markdown",
   "metadata": {},
   "source": [
    "Check all records are loaded."
   ]
  },
  {
   "cell_type": "code",
   "execution_count": 18,
   "metadata": {
    "collapsed": false
   },
   "outputs": [
    {
     "name": "stdout",
     "output_type": "stream",
     "text": [
      "1 rows affected.\n"
     ]
    },
    {
     "data": {
      "text/html": [
       "<table>\n",
       "    <tr>\n",
       "        <th>count</th>\n",
       "    </tr>\n",
       "    <tr>\n",
       "        <td>224710</td>\n",
       "    </tr>\n",
       "</table>"
      ],
      "text/plain": [
       "[(224710,)]"
      ]
     },
     "execution_count": 18,
     "metadata": {},
     "output_type": "execute_result"
    }
   ],
   "source": [
    "%%sql\n",
    "SELECT COUNT(*)\n",
    "FROM crime_facts;"
   ]
  },
  {
   "cell_type": "markdown",
   "metadata": {},
   "source": [
    "We can see from csvstat that the value in 'extra' column is 2016. Query below shows that only one row has value in 'extra' column. So we decide to drop this column since it is meaningless."
   ]
  },
  {
   "cell_type": "code",
   "execution_count": 19,
   "metadata": {
    "collapsed": false,
    "scrolled": true
   },
   "outputs": [
    {
     "name": "stdout",
     "output_type": "stream",
     "text": [
      "1 rows affected.\n"
     ]
    },
    {
     "data": {
      "text/html": [
       "<table>\n",
       "    <tr>\n",
       "        <th>extra</th>\n",
       "    </tr>\n",
       "    <tr>\n",
       "        <td>2016</td>\n",
       "    </tr>\n",
       "</table>"
      ],
      "text/plain": [
       "[('2016',)]"
      ]
     },
     "execution_count": 19,
     "metadata": {},
     "output_type": "execute_result"
    }
   ],
   "source": [
    "%%sql\n",
    "SELECT extra FROM crime_facts\n",
    "WHERE extra = '2016';"
   ]
  },
  {
   "cell_type": "code",
   "execution_count": 20,
   "metadata": {
    "collapsed": false
   },
   "outputs": [
    {
     "name": "stdout",
     "output_type": "stream",
     "text": [
      "Done.\n"
     ]
    },
    {
     "data": {
      "text/plain": [
       "[]"
      ]
     },
     "execution_count": 20,
     "metadata": {},
     "output_type": "execute_result"
    }
   ],
   "source": [
    "%%sql\n",
    "ALTER TABLE crime_facts DROP COLUMN extra RESTRICT;"
   ]
  },
  {
   "cell_type": "markdown",
   "metadata": {},
   "source": [
    "CRIME_ID of each row is not unique so we create anothor row served as identifier as well as primary key of the facts table."
   ]
  },
  {
   "cell_type": "code",
   "execution_count": 21,
   "metadata": {
    "collapsed": false
   },
   "outputs": [
    {
     "name": "stdout",
     "output_type": "stream",
     "text": [
      "Done.\n"
     ]
    },
    {
     "data": {
      "text/plain": [
       "[]"
      ]
     },
     "execution_count": 21,
     "metadata": {},
     "output_type": "execute_result"
    }
   ],
   "source": [
    "%%sql\n",
    "ALTER TABLE crime_facts ADD COLUMN report_id SERIAL PRIMARY KEY;"
   ]
  },
  {
   "cell_type": "markdown",
   "metadata": {},
   "source": [
    "Take a look at crime_facts table"
   ]
  },
  {
   "cell_type": "code",
   "execution_count": 22,
   "metadata": {
    "collapsed": false
   },
   "outputs": [
    {
     "name": "stdout",
     "output_type": "stream",
     "text": [
      "5 rows affected.\n"
     ]
    },
    {
     "data": {
      "text/html": [
       "<table>\n",
       "    <tr>\n",
       "        <th>crime_id</th>\n",
       "        <th>crime_type</th>\n",
       "        <th>report_date</th>\n",
       "        <th>occurred_date</th>\n",
       "        <th>street_number</th>\n",
       "        <th>street</th>\n",
       "        <th>city</th>\n",
       "        <th>state</th>\n",
       "        <th>ibrcode</th>\n",
       "        <th>ibrdesc</th>\n",
       "        <th>report_id</th>\n",
       "    </tr>\n",
       "    <tr>\n",
       "        <td>20162130448</td>\n",
       "        <td>CRIM TRESP 1ST DEG-RSID-STRUCT - DV</td>\n",
       "        <td>2016-07-31</td>\n",
       "        <td>2016-07-29</td>\n",
       "        <td>2300</td>\n",
       "        <td>N LEMA DR</td>\n",
       "        <td>MESA</td>\n",
       "        <td>AZ</td>\n",
       "        <td>90J</td>\n",
       "        <td>TRESPASS OF REAL PROPERTY</td>\n",
       "        <td>1</td>\n",
       "    </tr>\n",
       "    <tr>\n",
       "        <td>20162130334</td>\n",
       "        <td>ABANDONED VEHICLE</td>\n",
       "        <td>2016-07-31</td>\n",
       "        <td>2016-07-31</td>\n",
       "        <td>900</td>\n",
       "        <td>S DOBSON RD</td>\n",
       "        <td>MESA</td>\n",
       "        <td>AZ</td>\n",
       "        <td>90Z</td>\n",
       "        <td>OTHER OFFENSES</td>\n",
       "        <td>2</td>\n",
       "    </tr>\n",
       "    <tr>\n",
       "        <td>20162130099</td>\n",
       "        <td>ASSAULT-INTENT-RECKLESS-INJURE - DV</td>\n",
       "        <td>2016-07-31</td>\n",
       "        <td>2016-07-31</td>\n",
       "        <td>7000</td>\n",
       "        <td>E MAIN ST</td>\n",
       "        <td>MESA</td>\n",
       "        <td>AZ</td>\n",
       "        <td>13B</td>\n",
       "        <td>SIMPLE ASSAULT</td>\n",
       "        <td>3</td>\n",
       "    </tr>\n",
       "    <tr>\n",
       "        <td>20162130060</td>\n",
       "        <td>DRIVE ON SUSPENDED OR REVOKED LICENSE</td>\n",
       "        <td>2016-07-31</td>\n",
       "        <td>2016-07-31</td>\n",
       "        <td>300</td>\n",
       "        <td>N GILBERT RD</td>\n",
       "        <td>MESA</td>\n",
       "        <td>AZ</td>\n",
       "        <td>999</td>\n",
       "        <td>NOT REPORTABLE</td>\n",
       "        <td>4</td>\n",
       "    </tr>\n",
       "    <tr>\n",
       "        <td>20162130061</td>\n",
       "        <td>DRUG PARAPHERNALIA-POSSESS-USE</td>\n",
       "        <td>2016-07-31</td>\n",
       "        <td>2016-07-31</td>\n",
       "        <td>900</td>\n",
       "        <td>S COUNTRY CLUB DR</td>\n",
       "        <td>MESA</td>\n",
       "        <td>AZ</td>\n",
       "        <td>35B</td>\n",
       "        <td>DRUG EQUIPMENT VIOLATION</td>\n",
       "        <td>5</td>\n",
       "    </tr>\n",
       "</table>"
      ],
      "text/plain": [
       "[('20162130448', 'CRIM TRESP 1ST DEG-RSID-STRUCT - DV', datetime.date(2016, 7, 31), datetime.date(2016, 7, 29), '2300', 'N LEMA DR', 'MESA', 'AZ', '90J', 'TRESPASS OF REAL PROPERTY', 1),\n",
       " ('20162130334', 'ABANDONED VEHICLE', datetime.date(2016, 7, 31), datetime.date(2016, 7, 31), '900', 'S DOBSON RD', 'MESA', 'AZ', '90Z', 'OTHER OFFENSES', 2),\n",
       " ('20162130099', 'ASSAULT-INTENT-RECKLESS-INJURE - DV', datetime.date(2016, 7, 31), datetime.date(2016, 7, 31), '7000', 'E MAIN ST', 'MESA', 'AZ', '13B', 'SIMPLE ASSAULT', 3),\n",
       " ('20162130060', 'DRIVE ON SUSPENDED OR REVOKED LICENSE', datetime.date(2016, 7, 31), datetime.date(2016, 7, 31), '300', 'N GILBERT RD', 'MESA', 'AZ', '999', 'NOT REPORTABLE', 4),\n",
       " ('20162130061', 'DRUG PARAPHERNALIA-POSSESS-USE', datetime.date(2016, 7, 31), datetime.date(2016, 7, 31), '900', 'S COUNTRY CLUB DR', 'MESA', 'AZ', '35B', 'DRUG EQUIPMENT VIOLATION', 5)]"
      ]
     },
     "execution_count": 22,
     "metadata": {},
     "output_type": "execute_result"
    }
   ],
   "source": [
    "%%sql\n",
    "SELECT * FROM crime_facts\n",
    "LIMIT 5;"
   ]
  },
  {
   "cell_type": "markdown",
   "metadata": {},
   "source": [
    "**Explore the data**"
   ]
  },
  {
   "cell_type": "code",
   "execution_count": 24,
   "metadata": {
    "collapsed": false
   },
   "outputs": [
    {
     "name": "stdout",
     "output_type": "stream",
     "text": [
      "20 rows affected.\n"
     ]
    },
    {
     "data": {
      "text/html": [
       "<table>\n",
       "    <tr>\n",
       "        <th>crime_type</th>\n",
       "        <th>ibrdesc</th>\n",
       "    </tr>\n",
       "    <tr>\n",
       "        <td>ACCIDENT-NON INJURY</td>\n",
       "        <td>NOT REPORTABLE</td>\n",
       "    </tr>\n",
       "    <tr>\n",
       "        <td>TRAFFICKING IN STOLEN PROPERTY</td>\n",
       "        <td>NOT REPORTABLE</td>\n",
       "    </tr>\n",
       "    <tr>\n",
       "        <td>FAILURE TO PROVIDE IDENTIFICATION</td>\n",
       "        <td>DRIVING UNDER THE INFLUENCE</td>\n",
       "    </tr>\n",
       "    <tr>\n",
       "        <td>MISSING JUVENILE</td>\n",
       "        <td>DRUG EQUIPMENT VIOLATION</td>\n",
       "    </tr>\n",
       "    <tr>\n",
       "        <td>POSSESSION OF STOLEN PROPERTY</td>\n",
       "        <td>THEFT OF MOTOR VEHICLE PARTS OR ACCESSOR</td>\n",
       "    </tr>\n",
       "    <tr>\n",
       "        <td>CUSTODIAL INTERFERENCE</td>\n",
       "        <td>INTIMIDATION</td>\n",
       "    </tr>\n",
       "    <tr>\n",
       "        <td>OBSCENE/HARASSING CALLS</td>\n",
       "        <td>OTHER OFFENSES</td>\n",
       "    </tr>\n",
       "    <tr>\n",
       "        <td>FORGERY</td>\n",
       "        <td>FALSE PRETENSES/SWINDLE/CONFIDENCE GAME</td>\n",
       "    </tr>\n",
       "    <tr>\n",
       "        <td>DISCHARGE OF WEAPON</td>\n",
       "        <td>SIMPLE ASSAULT</td>\n",
       "    </tr>\n",
       "    <tr>\n",
       "        <td>DEATH - INVESTIGATION</td>\n",
       "        <td>FAMILY OFFENSES, NONVIOLENT</td>\n",
       "    </tr>\n",
       "    <tr>\n",
       "        <td>PRESCRIPTION DRUG VIOLATION</td>\n",
       "        <td>COUNTERFEITING/FORGERY</td>\n",
       "    </tr>\n",
       "    <tr>\n",
       "        <td>THREAT-INTIMIDATE - DV</td>\n",
       "        <td>INTIMIDATION</td>\n",
       "    </tr>\n",
       "    <tr>\n",
       "        <td>MARIJUANA-POSSESS FOR SALE</td>\n",
       "        <td>DRUG/NARCOTIC VIOLATION</td>\n",
       "    </tr>\n",
       "    <tr>\n",
       "        <td>LIQ-UNDERAGE IN POSSESSION/CONSUMPTION OF ALCOHOL</td>\n",
       "        <td>LIQUOR LAW VIOLATION</td>\n",
       "    </tr>\n",
       "    <tr>\n",
       "        <td>CRIM IMPERSON-PRETEND-DEFRAUD</td>\n",
       "        <td>IMPERSONATION</td>\n",
       "    </tr>\n",
       "    <tr>\n",
       "        <td>HARASS BY COMMUNICATION - DV</td>\n",
       "        <td>OTHER OFFENSES</td>\n",
       "    </tr>\n",
       "    <tr>\n",
       "        <td>FRAUDULENT USE OF CREDIT CARD</td>\n",
       "        <td>OTHER LARCENY</td>\n",
       "    </tr>\n",
       "    <tr>\n",
       "        <td>DEATH - INVESTIGATION</td>\n",
       "        <td>TRESPASS OF REAL PROPERTY</td>\n",
       "    </tr>\n",
       "    <tr>\n",
       "        <td>THEFT CREDIT CARD-CONTROL</td>\n",
       "        <td>IMPERSONATION</td>\n",
       "    </tr>\n",
       "    <tr>\n",
       "        <td>SALE OF DRUGS</td>\n",
       "        <td>NOT REPORTABLE</td>\n",
       "    </tr>\n",
       "</table>"
      ],
      "text/plain": [
       "[('ACCIDENT-NON INJURY', 'NOT REPORTABLE'),\n",
       " ('TRAFFICKING IN STOLEN PROPERTY', 'NOT REPORTABLE'),\n",
       " ('FAILURE TO PROVIDE IDENTIFICATION', 'DRIVING UNDER THE INFLUENCE'),\n",
       " ('MISSING JUVENILE', 'DRUG EQUIPMENT VIOLATION'),\n",
       " ('POSSESSION OF STOLEN PROPERTY', 'THEFT OF MOTOR VEHICLE PARTS OR ACCESSOR'),\n",
       " ('CUSTODIAL INTERFERENCE', 'INTIMIDATION'),\n",
       " ('OBSCENE/HARASSING CALLS', 'OTHER OFFENSES'),\n",
       " ('FORGERY', 'FALSE PRETENSES/SWINDLE/CONFIDENCE GAME'),\n",
       " ('DISCHARGE OF WEAPON', 'SIMPLE ASSAULT'),\n",
       " ('DEATH - INVESTIGATION', 'FAMILY OFFENSES, NONVIOLENT'),\n",
       " ('PRESCRIPTION DRUG VIOLATION', 'COUNTERFEITING/FORGERY'),\n",
       " ('THREAT-INTIMIDATE - DV', 'INTIMIDATION'),\n",
       " ('MARIJUANA-POSSESS FOR SALE', 'DRUG/NARCOTIC VIOLATION'),\n",
       " ('LIQ-UNDERAGE IN POSSESSION/CONSUMPTION OF ALCOHOL', 'LIQUOR LAW VIOLATION'),\n",
       " ('CRIM IMPERSON-PRETEND-DEFRAUD', 'IMPERSONATION'),\n",
       " ('HARASS BY COMMUNICATION - DV', 'OTHER OFFENSES'),\n",
       " ('FRAUDULENT USE OF CREDIT CARD', 'OTHER LARCENY'),\n",
       " ('DEATH - INVESTIGATION', 'TRESPASS OF REAL PROPERTY'),\n",
       " ('THEFT CREDIT CARD-CONTROL', 'IMPERSONATION'),\n",
       " ('SALE OF DRUGS', 'NOT REPORTABLE')]"
      ]
     },
     "execution_count": 24,
     "metadata": {},
     "output_type": "execute_result"
    }
   ],
   "source": [
    "%%sql\n",
    "SELECT DISTINCT CRIME_TYPE, IBRDESC\n",
    "FROM crime_facts\n",
    "LIMIT 20;"
   ]
  },
  {
   "cell_type": "markdown",
   "metadata": {},
   "source": [
    "### IBRDESC and CRIEM_TYPE\n",
    "There are 83 unique value in ibrdesc and 513 in crime_type. These two columns all record catagory of the incidents. Some of their records are similar. For example, \"THREAT-INTIMIDATE - DV\t\" and \"INTIMIDATION\". But information in crime_type column is more detailed classified."
   ]
  },
  {
   "cell_type": "code",
   "execution_count": 24,
   "metadata": {
    "collapsed": false
   },
   "outputs": [
    {
     "name": "stderr",
     "output_type": "stream",
     "text": [
      "/opt/conda/lib/python3.5/site-packages/matplotlib/font_manager.py:273: UserWarning: Matplotlib is building the font cache using fc-list. This may take a moment.\n",
      "  warnings.warn('Matplotlib is building the font cache using fc-list. This may take a moment.')\n",
      "/opt/conda/lib/python3.5/site-packages/matplotlib/font_manager.py:273: UserWarning: Matplotlib is building the font cache using fc-list. This may take a moment.\n",
      "  warnings.warn('Matplotlib is building the font cache using fc-list. This may take a moment.')\n"
     ]
    }
   ],
   "source": [
    "import matplotlib.pyplot as plt\n",
    "%matplotlib inline"
   ]
  },
  {
   "cell_type": "code",
   "execution_count": 25,
   "metadata": {
    "collapsed": false
   },
   "outputs": [
    {
     "name": "stdout",
     "output_type": "stream",
     "text": [
      "12 rows affected.\n"
     ]
    },
    {
     "data": {
      "text/html": [
       "<table>\n",
       "    <tr>\n",
       "        <th>mon</th>\n",
       "        <th>count</th>\n",
       "    </tr>\n",
       "    <tr>\n",
       "        <td>01</td>\n",
       "        <td>17068</td>\n",
       "    </tr>\n",
       "    <tr>\n",
       "        <td>02</td>\n",
       "        <td>14419</td>\n",
       "    </tr>\n",
       "    <tr>\n",
       "        <td>03</td>\n",
       "        <td>15585</td>\n",
       "    </tr>\n",
       "    <tr>\n",
       "        <td>04</td>\n",
       "        <td>15488</td>\n",
       "    </tr>\n",
       "    <tr>\n",
       "        <td>05</td>\n",
       "        <td>15987</td>\n",
       "    </tr>\n",
       "    <tr>\n",
       "        <td>06</td>\n",
       "        <td>15244</td>\n",
       "    </tr>\n",
       "    <tr>\n",
       "        <td>07</td>\n",
       "        <td>15886</td>\n",
       "    </tr>\n",
       "    <tr>\n",
       "        <td>08</td>\n",
       "        <td>16262</td>\n",
       "    </tr>\n",
       "    <tr>\n",
       "        <td>09</td>\n",
       "        <td>15520</td>\n",
       "    </tr>\n",
       "    <tr>\n",
       "        <td>10</td>\n",
       "        <td>16096</td>\n",
       "    </tr>\n",
       "    <tr>\n",
       "        <td>11</td>\n",
       "        <td>14943</td>\n",
       "    </tr>\n",
       "    <tr>\n",
       "        <td>12</td>\n",
       "        <td>15967</td>\n",
       "    </tr>\n",
       "</table>"
      ],
      "text/plain": [
       "[('01', 17068),\n",
       " ('02', 14419),\n",
       " ('03', 15585),\n",
       " ('04', 15488),\n",
       " ('05', 15987),\n",
       " ('06', 15244),\n",
       " ('07', 15886),\n",
       " ('08', 16262),\n",
       " ('09', 15520),\n",
       " ('10', 16096),\n",
       " ('11', 14943),\n",
       " ('12', 15967)]"
      ]
     },
     "execution_count": 25,
     "metadata": {},
     "output_type": "execute_result"
    }
   ],
   "source": [
    "%%sql\n",
    "SELECT to_char(OCCURRED_DATE,'MM') as mon,\n",
    "       COUNT(*) AS COUNT\n",
    "FROM crime_facts\n",
    "WHERE OCCURRED_DATE < '01/01/2016'\n",
    "GROUP BY 1\n",
    "ORDER BY mon ASC"
   ]
  },
  {
   "cell_type": "code",
   "execution_count": 26,
   "metadata": {
    "collapsed": false
   },
   "outputs": [
    {
     "data": {
      "text/plain": [
       "<Container object of 12 artists>"
      ]
     },
     "execution_count": 26,
     "metadata": {},
     "output_type": "execute_result"
    },
    {
     "data": {
      "image/png": "[encoded data removed]",
      "text/plain": [
       "<matplotlib.figure.Figure at 0x7f79530c3da0>"
      ]
     },
     "metadata": {},
     "output_type": "display_data"
    }
   ],
   "source": [
    "time = _\n",
    "time.bar()"
   ]
  },
  {
   "cell_type": "code",
   "execution_count": 27,
   "metadata": {
    "collapsed": false,
    "scrolled": true
   },
   "outputs": [
    {
     "name": "stdout",
     "output_type": "stream",
     "text": [
      "28 rows affected.\n"
     ]
    },
    {
     "data": {
      "text/html": [
       "<table>\n",
       "    <tr>\n",
       "        <th>yyyy</th>\n",
       "        <th>count</th>\n",
       "    </tr>\n",
       "    <tr>\n",
       "        <td>1111.0</td>\n",
       "        <td>6051</td>\n",
       "    </tr>\n",
       "    <tr>\n",
       "        <td>1953.0</td>\n",
       "        <td>1</td>\n",
       "    </tr>\n",
       "    <tr>\n",
       "        <td>1973.0</td>\n",
       "        <td>1</td>\n",
       "    </tr>\n",
       "    <tr>\n",
       "        <td>1985.0</td>\n",
       "        <td>1</td>\n",
       "    </tr>\n",
       "    <tr>\n",
       "        <td>1991.0</td>\n",
       "        <td>3</td>\n",
       "    </tr>\n",
       "    <tr>\n",
       "        <td>1992.0</td>\n",
       "        <td>2</td>\n",
       "    </tr>\n",
       "    <tr>\n",
       "        <td>1995.0</td>\n",
       "        <td>3</td>\n",
       "    </tr>\n",
       "    <tr>\n",
       "        <td>1996.0</td>\n",
       "        <td>2</td>\n",
       "    </tr>\n",
       "    <tr>\n",
       "        <td>1997.0</td>\n",
       "        <td>1</td>\n",
       "    </tr>\n",
       "    <tr>\n",
       "        <td>1998.0</td>\n",
       "        <td>1</td>\n",
       "    </tr>\n",
       "    <tr>\n",
       "        <td>1999.0</td>\n",
       "        <td>2</td>\n",
       "    </tr>\n",
       "    <tr>\n",
       "        <td>2000.0</td>\n",
       "        <td>10</td>\n",
       "    </tr>\n",
       "    <tr>\n",
       "        <td>2001.0</td>\n",
       "        <td>8</td>\n",
       "    </tr>\n",
       "    <tr>\n",
       "        <td>2002.0</td>\n",
       "        <td>16</td>\n",
       "    </tr>\n",
       "    <tr>\n",
       "        <td>2003.0</td>\n",
       "        <td>10</td>\n",
       "    </tr>\n",
       "    <tr>\n",
       "        <td>2004.0</td>\n",
       "        <td>10</td>\n",
       "    </tr>\n",
       "    <tr>\n",
       "        <td>2005.0</td>\n",
       "        <td>18</td>\n",
       "    </tr>\n",
       "    <tr>\n",
       "        <td>2006.0</td>\n",
       "        <td>18</td>\n",
       "    </tr>\n",
       "    <tr>\n",
       "        <td>2007.0</td>\n",
       "        <td>40</td>\n",
       "    </tr>\n",
       "    <tr>\n",
       "        <td>2008.0</td>\n",
       "        <td>34</td>\n",
       "    </tr>\n",
       "    <tr>\n",
       "        <td>2009.0</td>\n",
       "        <td>48</td>\n",
       "    </tr>\n",
       "    <tr>\n",
       "        <td>2010.0</td>\n",
       "        <td>64</td>\n",
       "    </tr>\n",
       "    <tr>\n",
       "        <td>2011.0</td>\n",
       "        <td>94</td>\n",
       "    </tr>\n",
       "    <tr>\n",
       "        <td>2012.0</td>\n",
       "        <td>393</td>\n",
       "    </tr>\n",
       "    <tr>\n",
       "        <td>2013.0</td>\n",
       "        <td>56965</td>\n",
       "    </tr>\n",
       "    <tr>\n",
       "        <td>2014.0</td>\n",
       "        <td>61469</td>\n",
       "    </tr>\n",
       "    <tr>\n",
       "        <td>2015.0</td>\n",
       "        <td>63200</td>\n",
       "    </tr>\n",
       "    <tr>\n",
       "        <td>2016.0</td>\n",
       "        <td>36245</td>\n",
       "    </tr>\n",
       "</table>"
      ],
      "text/plain": [
       "[(1111.0, 6051),\n",
       " (1953.0, 1),\n",
       " (1973.0, 1),\n",
       " (1985.0, 1),\n",
       " (1991.0, 3),\n",
       " (1992.0, 2),\n",
       " (1995.0, 3),\n",
       " (1996.0, 2),\n",
       " (1997.0, 1),\n",
       " (1998.0, 1),\n",
       " (1999.0, 2),\n",
       " (2000.0, 10),\n",
       " (2001.0, 8),\n",
       " (2002.0, 16),\n",
       " (2003.0, 10),\n",
       " (2004.0, 10),\n",
       " (2005.0, 18),\n",
       " (2006.0, 18),\n",
       " (2007.0, 40),\n",
       " (2008.0, 34),\n",
       " (2009.0, 48),\n",
       " (2010.0, 64),\n",
       " (2011.0, 94),\n",
       " (2012.0, 393),\n",
       " (2013.0, 56965),\n",
       " (2014.0, 61469),\n",
       " (2015.0, 63200),\n",
       " (2016.0, 36245)]"
      ]
     },
     "execution_count": 27,
     "metadata": {},
     "output_type": "execute_result"
    }
   ],
   "source": [
    "%%sql\n",
    "SELECT EXTRACT(year FROM OCCURRED_DATE) AS YYYY,\n",
    "       COUNT(*) AS COUNT\n",
    "FROM crime_facts\n",
    "GROUP BY 1\n",
    "ORDER BY YYYY ASC"
   ]
  },
  {
   "cell_type": "code",
   "execution_count": 28,
   "metadata": {
    "collapsed": false
   },
   "outputs": [
    {
     "data": {
      "text/plain": [
       "<Container object of 28 artists>"
      ]
     },
     "execution_count": 28,
     "metadata": {},
     "output_type": "execute_result"
    },
    {
     "data": {
      "image/png": "[encoded data removed]",
      "text/plain": [
       "<matplotlib.figure.Figure at 0x7f79512e0c88>"
      ]
     },
     "metadata": {},
     "output_type": "display_data"
    }
   ],
   "source": [
    "time = _\n",
    "time.bar()"
   ]
  },
  {
   "cell_type": "code",
   "execution_count": 40,
   "metadata": {
    "collapsed": false
   },
   "outputs": [
    {
     "name": "stdout",
     "output_type": "stream",
     "text": [
      "20 rows affected.\n"
     ]
    },
    {
     "data": {
      "text/html": [
       "<table>\n",
       "    <tr>\n",
       "        <th>yearmon</th>\n",
       "        <th>count</th>\n",
       "    </tr>\n",
       "    <tr>\n",
       "        <td>2015-01</td>\n",
       "        <td>5395</td>\n",
       "    </tr>\n",
       "    <tr>\n",
       "        <td>2015-02</td>\n",
       "        <td>4931</td>\n",
       "    </tr>\n",
       "    <tr>\n",
       "        <td>2015-03</td>\n",
       "        <td>5490</td>\n",
       "    </tr>\n",
       "    <tr>\n",
       "        <td>2015-04</td>\n",
       "        <td>5289</td>\n",
       "    </tr>\n",
       "    <tr>\n",
       "        <td>2015-05</td>\n",
       "        <td>5390</td>\n",
       "    </tr>\n",
       "    <tr>\n",
       "        <td>2015-06</td>\n",
       "        <td>5196</td>\n",
       "    </tr>\n",
       "    <tr>\n",
       "        <td>2015-07</td>\n",
       "        <td>5471</td>\n",
       "    </tr>\n",
       "    <tr>\n",
       "        <td>2015-08</td>\n",
       "        <td>5393</td>\n",
       "    </tr>\n",
       "    <tr>\n",
       "        <td>2015-09</td>\n",
       "        <td>5272</td>\n",
       "    </tr>\n",
       "    <tr>\n",
       "        <td>2015-10</td>\n",
       "        <td>5348</td>\n",
       "    </tr>\n",
       "    <tr>\n",
       "        <td>2015-11</td>\n",
       "        <td>4754</td>\n",
       "    </tr>\n",
       "    <tr>\n",
       "        <td>2015-12</td>\n",
       "        <td>5271</td>\n",
       "    </tr>\n",
       "    <tr>\n",
       "        <td>2016-01</td>\n",
       "        <td>4945</td>\n",
       "    </tr>\n",
       "    <tr>\n",
       "        <td>2016-02</td>\n",
       "        <td>4358</td>\n",
       "    </tr>\n",
       "    <tr>\n",
       "        <td>2016-03</td>\n",
       "        <td>5201</td>\n",
       "    </tr>\n",
       "    <tr>\n",
       "        <td>2016-04</td>\n",
       "        <td>4442</td>\n",
       "    </tr>\n",
       "    <tr>\n",
       "        <td>2016-05</td>\n",
       "        <td>4785</td>\n",
       "    </tr>\n",
       "    <tr>\n",
       "        <td>2016-06</td>\n",
       "        <td>4558</td>\n",
       "    </tr>\n",
       "    <tr>\n",
       "        <td>2016-07</td>\n",
       "        <td>3885</td>\n",
       "    </tr>\n",
       "    <tr>\n",
       "        <td>2016-08</td>\n",
       "        <td>4071</td>\n",
       "    </tr>\n",
       "</table>"
      ],
      "text/plain": [
       "[('2015-01', 5395),\n",
       " ('2015-02', 4931),\n",
       " ('2015-03', 5490),\n",
       " ('2015-04', 5289),\n",
       " ('2015-05', 5390),\n",
       " ('2015-06', 5196),\n",
       " ('2015-07', 5471),\n",
       " ('2015-08', 5393),\n",
       " ('2015-09', 5272),\n",
       " ('2015-10', 5348),\n",
       " ('2015-11', 4754),\n",
       " ('2015-12', 5271),\n",
       " ('2016-01', 4945),\n",
       " ('2016-02', 4358),\n",
       " ('2016-03', 5201),\n",
       " ('2016-04', 4442),\n",
       " ('2016-05', 4785),\n",
       " ('2016-06', 4558),\n",
       " ('2016-07', 3885),\n",
       " ('2016-08', 4071)]"
      ]
     },
     "execution_count": 40,
     "metadata": {},
     "output_type": "execute_result"
    }
   ],
   "source": [
    "%%sql\n",
    "SELECT to_char(OCCURRED_DATE, 'YYYY-MM') AS YearMon ,COUNT(*) AS COUNT\n",
    "FROM crime_facts\n",
    "WHERE OCCURRED_DATE >= '2015-01-01'\n",
    "GROUP BY YearMon\n",
    "ORDER BY YearMon ASC"
   ]
  },
  {
   "cell_type": "code",
   "execution_count": 41,
   "metadata": {
    "collapsed": false
   },
   "outputs": [
    {
     "data": {
      "text/plain": [
       "<Container object of 20 artists>"
      ]
     },
     "execution_count": 41,
     "metadata": {},
     "output_type": "execute_result"
    },
    {
     "data": {
      "image/png": "[encoded data removed]",
      "text/plain": [
       "<matplotlib.figure.Figure at 0x7fd169aa4c50>"
      ]
     },
     "metadata": {},
     "output_type": "display_data"
    }
   ],
   "source": [
    "time = _\n",
    "time.bar()"
   ]
  },
  {
   "cell_type": "markdown",
   "metadata": {},
   "source": [
    "We could see that most of the incident reports happened after year 2012. This may due to early records are missing or data before 2012 are not well digitalized.  \n",
    "   \n",
    "We could also see from the plot that incidents in February are a bit less than that in other months. Monthly number of incident in 2016 are a bit less that that in 2015. Overall the number of incidents does not vary a lot by month."
   ]
  },
  {
   "cell_type": "markdown",
   "metadata": {},
   "source": [
    "Top 20 types of crime"
   ]
  },
  {
   "cell_type": "code",
   "execution_count": 31,
   "metadata": {
    "collapsed": false
   },
   "outputs": [
    {
     "name": "stdout",
     "output_type": "stream",
     "text": [
      "20 rows affected.\n"
     ]
    },
    {
     "data": {
      "text/html": [
       "<table>\n",
       "    <tr>\n",
       "        <th>crime_type</th>\n",
       "        <th>count</th>\n",
       "    </tr>\n",
       "    <tr>\n",
       "        <td>WARRANT ARREST</td>\n",
       "        <td>19030</td>\n",
       "    </tr>\n",
       "    <tr>\n",
       "        <td>THEFT</td>\n",
       "        <td>15703</td>\n",
       "    </tr>\n",
       "    <tr>\n",
       "        <td>WARRANT ARREST-FOJ</td>\n",
       "        <td>12686</td>\n",
       "    </tr>\n",
       "    <tr>\n",
       "        <td>SHOPLIFTING</td>\n",
       "        <td>11356</td>\n",
       "    </tr>\n",
       "    <tr>\n",
       "        <td>CRIMINAL DAMAGE</td>\n",
       "        <td>10739</td>\n",
       "    </tr>\n",
       "    <tr>\n",
       "        <td>ASSAULT</td>\n",
       "        <td>10737</td>\n",
       "    </tr>\n",
       "    <tr>\n",
       "        <td>DRIVING UNDER INFLUENCE</td>\n",
       "        <td>7621</td>\n",
       "    </tr>\n",
       "    <tr>\n",
       "        <td>DRIVING ON SUSPENDED LICENSE</td>\n",
       "        <td>7018</td>\n",
       "    </tr>\n",
       "    <tr>\n",
       "        <td>TRESPASS</td>\n",
       "        <td>6689</td>\n",
       "    </tr>\n",
       "    <tr>\n",
       "        <td>INFORMATION OTHER</td>\n",
       "        <td>6091</td>\n",
       "    </tr>\n",
       "    <tr>\n",
       "        <td>TRAFFIC INCIDENT</td>\n",
       "        <td>6089</td>\n",
       "    </tr>\n",
       "    <tr>\n",
       "        <td>BURGLARY-RESIDENCE</td>\n",
       "        <td>5969</td>\n",
       "    </tr>\n",
       "    <tr>\n",
       "        <td>BURGLARY FROM VEHICLE</td>\n",
       "        <td>5731</td>\n",
       "    </tr>\n",
       "    <tr>\n",
       "        <td>POSSESSION OF DRUGS - NOT MARIJUANA</td>\n",
       "        <td>5723</td>\n",
       "    </tr>\n",
       "    <tr>\n",
       "        <td>DISORDERLY CONDUCT</td>\n",
       "        <td>4877</td>\n",
       "    </tr>\n",
       "    <tr>\n",
       "        <td>SUSPENDED-REVOKED LICENSE</td>\n",
       "        <td>4785</td>\n",
       "    </tr>\n",
       "    <tr>\n",
       "        <td>FRAUD</td>\n",
       "        <td>4529</td>\n",
       "    </tr>\n",
       "    <tr>\n",
       "        <td>POSSESSION OF MARIJUANA</td>\n",
       "        <td>4417</td>\n",
       "    </tr>\n",
       "    <tr>\n",
       "        <td>POSSESSION OF DRUG PARAPHERNALIA</td>\n",
       "        <td>4283</td>\n",
       "    </tr>\n",
       "    <tr>\n",
       "        <td>FOUND PROPERTY</td>\n",
       "        <td>3831</td>\n",
       "    </tr>\n",
       "</table>"
      ],
      "text/plain": [
       "[('WARRANT ARREST', 19030),\n",
       " ('THEFT', 15703),\n",
       " ('WARRANT ARREST-FOJ', 12686),\n",
       " ('SHOPLIFTING', 11356),\n",
       " ('CRIMINAL DAMAGE', 10739),\n",
       " ('ASSAULT', 10737),\n",
       " ('DRIVING UNDER INFLUENCE', 7621),\n",
       " ('DRIVING ON SUSPENDED LICENSE', 7018),\n",
       " ('TRESPASS', 6689),\n",
       " ('INFORMATION OTHER', 6091),\n",
       " ('TRAFFIC INCIDENT', 6089),\n",
       " ('BURGLARY-RESIDENCE', 5969),\n",
       " ('BURGLARY FROM VEHICLE', 5731),\n",
       " ('POSSESSION OF DRUGS - NOT MARIJUANA', 5723),\n",
       " ('DISORDERLY CONDUCT', 4877),\n",
       " ('SUSPENDED-REVOKED LICENSE', 4785),\n",
       " ('FRAUD', 4529),\n",
       " ('POSSESSION OF MARIJUANA', 4417),\n",
       " ('POSSESSION OF DRUG PARAPHERNALIA', 4283),\n",
       " ('FOUND PROPERTY', 3831)]"
      ]
     },
     "execution_count": 31,
     "metadata": {},
     "output_type": "execute_result"
    }
   ],
   "source": [
    "%%sql\n",
    "SELECT CRIME_TYPE, COUNT(*) AS COUNT\n",
    "FROM crime_facts\n",
    "GROUP BY CRIME_TYPE\n",
    "ORDER BY COUNT DESC\n",
    "LIMIT 20"
   ]
  },
  {
   "cell_type": "markdown",
   "metadata": {},
   "source": [
    "## Problem 3 - define a star schema, and load your data into it (30 points)\n",
    "\n",
    "Define a star schema consisting of at least one fact table and at least two dimensions.  Transform your source data into the new fact table and dimensions.  Discuss your key modeling decisions.\n",
    "\n",
    "Document your star schema with a diagram.  There several tools available for this, such as Google Docs and Microsoft Visio."
   ]
  },
  {
   "cell_type": "code",
   "execution_count": 5,
   "metadata": {
    "collapsed": false
   },
   "outputs": [
    {
     "data": {
      "text/html": [
       "<img src=\"https://github.com/qyw0/istm-6212/blob/master/project2/P2.jpg\"/>"
      ],
      "text/plain": [
       "<IPython.core.display.Image object>"
      ]
     },
     "execution_count": 5,
     "metadata": {},
     "output_type": "execute_result"
    }
   ],
   "source": [
    "from IPython.display import Image\n",
    "Image(url = \"https://github.com/qyw0/istm-6212/blob/master/project2/P2.jpg\")"
   ]
  },
  {
   "cell_type": "markdown",
   "metadata": {},
   "source": [
    "Our star schema model consists of one facts table and three dimension tables. The grain of the fact table is each incident report.\n",
    "Report_date and occurred_date could tell us information about the time of incidents. Columns related to location such as street_number and street describe the geological location of the crime. And IBR information and crime_type could tell us the type or detail of the crime. These information are very important to our analysis and incidents records could be filtered by location, time, and crime type. "
   ]
  },
  {
   "cell_type": "markdown",
   "metadata": {},
   "source": [
    "## Create Address Dimension"
   ]
  },
  {
   "cell_type": "code",
   "execution_count": 10,
   "metadata": {
    "collapsed": false
   },
   "outputs": [
    {
     "name": "stdout",
     "output_type": "stream",
     "text": [
      "Done.\n",
      "15713 rows affected.\n"
     ]
    },
    {
     "data": {
      "text/plain": [
       "[]"
      ]
     },
     "execution_count": 10,
     "metadata": {},
     "output_type": "execute_result"
    }
   ],
   "source": [
    "%%sql\n",
    "DROP TABLE IF EXISTS address;\n",
    "SELECT DISTINCT STREET_NUMBER, STREET, CITY, STATE\n",
    "INTO address\n",
    "FROM crime_facts;"
   ]
  },
  {
   "cell_type": "markdown",
   "metadata": {
    "collapsed": true
   },
   "source": [
    "Create surrogate key, which is also the promary key for dimension address "
   ]
  },
  {
   "cell_type": "code",
   "execution_count": 11,
   "metadata": {
    "collapsed": false
   },
   "outputs": [
    {
     "name": "stdout",
     "output_type": "stream",
     "text": [
      "Done.\n"
     ]
    },
    {
     "data": {
      "text/plain": [
       "[]"
      ]
     },
     "execution_count": 11,
     "metadata": {},
     "output_type": "execute_result"
    }
   ],
   "source": [
    "%%sql\n",
    "ALTER TABLE address ADD COLUMN ADDRESS_KEY SERIAL PRIMARY KEY;"
   ]
  },
  {
   "cell_type": "markdown",
   "metadata": {},
   "source": [
    "Add ADDRESS_KEY into crime_facts table"
   ]
  },
  {
   "cell_type": "code",
   "execution_count": 12,
   "metadata": {
    "collapsed": false
   },
   "outputs": [
    {
     "name": "stdout",
     "output_type": "stream",
     "text": [
      "(psycopg2.ProgrammingError) column \"address_key\" of relation \"crime_facts\" already exists\n",
      " [SQL: 'ALTER TABLE crime_facts ADD COLUMN ADDRESS_KEY INTEGER;']\n"
     ]
    }
   ],
   "source": [
    "%%sql\n",
    "ALTER TABLE crime_facts ADD COLUMN ADDRESS_KEY INTEGER;"
   ]
  },
  {
   "cell_type": "code",
   "execution_count": 13,
   "metadata": {
    "collapsed": false
   },
   "outputs": [
    {
     "name": "stdout",
     "output_type": "stream",
     "text": [
      "224710 rows affected.\n"
     ]
    },
    {
     "data": {
      "text/plain": [
       "[]"
      ]
     },
     "execution_count": 13,
     "metadata": {},
     "output_type": "execute_result"
    }
   ],
   "source": [
    "%%sql\n",
    "UPDATE crime_facts\n",
    "SET ADDRESS_KEY = (SELECT ADDRESS_KEY FROM address \n",
    "                   WHERE address.STREET_NUMBER = crime_facts.STREET_NUMBER\n",
    "                   AND address.STREET = crime_facts.STREET\n",
    "                   AND address.CITY = crime_facts.CITY);"
   ]
  },
  {
   "cell_type": "code",
   "execution_count": 14,
   "metadata": {
    "collapsed": false
   },
   "outputs": [
    {
     "name": "stdout",
     "output_type": "stream",
     "text": [
      "5 rows affected.\n"
     ]
    },
    {
     "data": {
      "text/html": [
       "<table>\n",
       "    <tr>\n",
       "        <th>street_number</th>\n",
       "        <th>street</th>\n",
       "        <th>city</th>\n",
       "        <th>state</th>\n",
       "        <th>address_key</th>\n",
       "    </tr>\n",
       "    <tr>\n",
       "        <td>100</td>\n",
       "        <td>S LESUEUR</td>\n",
       "        <td>MESA</td>\n",
       "        <td>AZ</td>\n",
       "        <td>1</td>\n",
       "    </tr>\n",
       "    <tr>\n",
       "        <td>11600</td>\n",
       "        <td>E MADERO AVE</td>\n",
       "        <td>MESA</td>\n",
       "        <td>AZ</td>\n",
       "        <td>2</td>\n",
       "    </tr>\n",
       "    <tr>\n",
       "        <td>800</td>\n",
       "        <td>N 48TH ST</td>\n",
       "        <td>MESA</td>\n",
       "        <td>AZ</td>\n",
       "        <td>3</td>\n",
       "    </tr>\n",
       "    <tr>\n",
       "        <td>900</td>\n",
       "        <td>W BROADWAY RD</td>\n",
       "        <td>MESA</td>\n",
       "        <td>AZ</td>\n",
       "        <td>4</td>\n",
       "    </tr>\n",
       "    <tr>\n",
       "        <td>6800</td>\n",
       "        <td>E ROLLINS ST</td>\n",
       "        <td>MESA</td>\n",
       "        <td>AZ</td>\n",
       "        <td>5</td>\n",
       "    </tr>\n",
       "</table>"
      ],
      "text/plain": [
       "[('100', 'S LESUEUR', 'MESA', 'AZ', 1),\n",
       " ('11600', 'E MADERO AVE', 'MESA', 'AZ', 2),\n",
       " ('800', 'N 48TH ST', 'MESA', 'AZ', 3),\n",
       " ('900', 'W BROADWAY RD', 'MESA', 'AZ', 4),\n",
       " ('6800', 'E ROLLINS ST', 'MESA', 'AZ', 5)]"
      ]
     },
     "execution_count": 14,
     "metadata": {},
     "output_type": "execute_result"
    }
   ],
   "source": [
    "%%sql\n",
    "SELECT * FROM address\n",
    "LIMIT 5;"
   ]
  },
  {
   "cell_type": "markdown",
   "metadata": {},
   "source": [
    "## Create  Incident-Based Reporting (IBR) Dimension"
   ]
  },
  {
   "cell_type": "code",
   "execution_count": 15,
   "metadata": {
    "collapsed": false
   },
   "outputs": [
    {
     "name": "stdout",
     "output_type": "stream",
     "text": [
      "Done.\n",
      "2117 rows affected.\n"
     ]
    },
    {
     "data": {
      "text/plain": [
       "[]"
      ]
     },
     "execution_count": 15,
     "metadata": {},
     "output_type": "execute_result"
    }
   ],
   "source": [
    "%%sql\n",
    "DROP TABLE IF EXISTS ibr;\n",
    "SELECT DISTINCT IBRCODE, IBRDESC, CRIME_TYPE\n",
    "INTO ibr\n",
    "FROM crime_facts;"
   ]
  },
  {
   "cell_type": "code",
   "execution_count": 16,
   "metadata": {
    "collapsed": false
   },
   "outputs": [
    {
     "name": "stdout",
     "output_type": "stream",
     "text": [
      "Done.\n"
     ]
    },
    {
     "data": {
      "text/plain": [
       "[]"
      ]
     },
     "execution_count": 16,
     "metadata": {},
     "output_type": "execute_result"
    }
   ],
   "source": [
    "%%sql\n",
    "ALTER TABLE ibr ADD COLUMN IBR_KEY SERIAL PRIMARY KEY;"
   ]
  },
  {
   "cell_type": "code",
   "execution_count": 17,
   "metadata": {
    "collapsed": false
   },
   "outputs": [
    {
     "name": "stdout",
     "output_type": "stream",
     "text": [
      "Done.\n"
     ]
    },
    {
     "data": {
      "text/plain": [
       "[]"
      ]
     },
     "execution_count": 17,
     "metadata": {},
     "output_type": "execute_result"
    }
   ],
   "source": [
    "%%sql\n",
    "ALTER TABLE crime_facts ADD COLUMN IBR_KEY INTEGER;"
   ]
  },
  {
   "cell_type": "code",
   "execution_count": 18,
   "metadata": {
    "collapsed": false
   },
   "outputs": [
    {
     "name": "stdout",
     "output_type": "stream",
     "text": [
      "224710 rows affected.\n"
     ]
    },
    {
     "data": {
      "text/plain": [
       "[]"
      ]
     },
     "execution_count": 18,
     "metadata": {},
     "output_type": "execute_result"
    }
   ],
   "source": [
    "%%sql\n",
    "UPDATE crime_facts\n",
    "SET IBR_KEY = (SELECT IBR_KEY FROM ibr \n",
    "               WHERE ibr.IBRCODE = crime_facts.IBRCODE\n",
    "               AND ibr.IBRDESC = crime_facts.IBRDESC\n",
    "               AND ibr.CRIME_TYPE = crime_facts.CRIME_TYPE);"
   ]
  },
  {
   "cell_type": "code",
   "execution_count": 19,
   "metadata": {
    "collapsed": false
   },
   "outputs": [
    {
     "name": "stdout",
     "output_type": "stream",
     "text": [
      "5 rows affected.\n"
     ]
    },
    {
     "data": {
      "text/html": [
       "<table>\n",
       "    <tr>\n",
       "        <th>ibrcode</th>\n",
       "        <th>ibrdesc</th>\n",
       "        <th>crime_type</th>\n",
       "        <th>ibr_key</th>\n",
       "    </tr>\n",
       "    <tr>\n",
       "        <td></td>\n",
       "        <td></td>\n",
       "        <td>ASSAULT</td>\n",
       "        <td>1</td>\n",
       "    </tr>\n",
       "    <tr>\n",
       "        <td></td>\n",
       "        <td></td>\n",
       "        <td>THEFT</td>\n",
       "        <td>2</td>\n",
       "    </tr>\n",
       "    <tr>\n",
       "        <td></td>\n",
       "        <td></td>\n",
       "        <td>TRESPASS</td>\n",
       "        <td>3</td>\n",
       "    </tr>\n",
       "    <tr>\n",
       "        <td>09A</td>\n",
       "        <td>MURDER &amp; NONNEGLIGENT MANSLAUGHTER</td>\n",
       "        <td>AGGRAVATED ASSAULT</td>\n",
       "        <td>4</td>\n",
       "    </tr>\n",
       "    <tr>\n",
       "        <td>09A</td>\n",
       "        <td>MURDER &amp; NONNEGLIGENT MANSLAUGHTER</td>\n",
       "        <td>DEATH - INVESTIGATION</td>\n",
       "        <td>5</td>\n",
       "    </tr>\n",
       "</table>"
      ],
      "text/plain": [
       "[('', '', 'ASSAULT', 1),\n",
       " ('', '', 'THEFT', 2),\n",
       " ('', '', 'TRESPASS', 3),\n",
       " ('09A', 'MURDER & NONNEGLIGENT MANSLAUGHTER', 'AGGRAVATED ASSAULT', 4),\n",
       " ('09A', 'MURDER & NONNEGLIGENT MANSLAUGHTER', 'DEATH - INVESTIGATION', 5)]"
      ]
     },
     "execution_count": 19,
     "metadata": {},
     "output_type": "execute_result"
    }
   ],
   "source": [
    "%%sql\n",
    "SELECT * FROM ibr\n",
    "LIMIT 5;"
   ]
  },
  {
   "cell_type": "markdown",
   "metadata": {},
   "source": [
    "Check if the ibr table is correct"
   ]
  },
  {
   "cell_type": "code",
   "execution_count": 26,
   "metadata": {
    "collapsed": false
   },
   "outputs": [
    {
     "name": "stdout",
     "output_type": "stream",
     "text": [
      "3 rows affected.\n"
     ]
    },
    {
     "data": {
      "text/html": [
       "<table>\n",
       "    <tr>\n",
       "        <th>crime_type</th>\n",
       "        <th>ibrdesc</th>\n",
       "    </tr>\n",
       "    <tr>\n",
       "        <td>THEFT</td>\n",
       "        <td></td>\n",
       "    </tr>\n",
       "    <tr>\n",
       "        <td>ASSAULT</td>\n",
       "        <td></td>\n",
       "    </tr>\n",
       "    <tr>\n",
       "        <td>TRESPASS</td>\n",
       "        <td></td>\n",
       "    </tr>\n",
       "</table>"
      ],
      "text/plain": [
       "[('THEFT', ''), ('ASSAULT', ''), ('TRESPASS', '')]"
      ]
     },
     "execution_count": 26,
     "metadata": {},
     "output_type": "execute_result"
    }
   ],
   "source": [
    "%%sql\n",
    "SELECT DISTINCT CRIME_TYPE, IBRDESC\n",
    "FROM crime_facts\n",
    "WHERE IBRDESC = '';"
   ]
  },
  {
   "cell_type": "markdown",
   "metadata": {},
   "source": [
    "## Create Date Dimension"
   ]
  },
  {
   "cell_type": "code",
   "execution_count": 27,
   "metadata": {
    "collapsed": false
   },
   "outputs": [
    {
     "name": "stdout",
     "output_type": "stream",
     "text": [
      "Done.\n",
      "16889 rows affected.\n"
     ]
    },
    {
     "data": {
      "text/plain": [
       "[]"
      ]
     },
     "execution_count": 27,
     "metadata": {},
     "output_type": "execute_result"
    }
   ],
   "source": [
    "%%sql\n",
    "DROP TABLE IF EXISTS date;\n",
    "SELECT DISTINCT REPORT_DATE, OCCURRED_DATE\n",
    "INTO date\n",
    "FROM crime_facts;"
   ]
  },
  {
   "cell_type": "code",
   "execution_count": 28,
   "metadata": {
    "collapsed": false
   },
   "outputs": [
    {
     "name": "stdout",
     "output_type": "stream",
     "text": [
      "Done.\n"
     ]
    },
    {
     "data": {
      "text/plain": [
       "[]"
      ]
     },
     "execution_count": 28,
     "metadata": {},
     "output_type": "execute_result"
    }
   ],
   "source": [
    "%%sql\n",
    "ALTER TABLE date ADD COLUMN DATE_KEY SERIAL PRIMARY KEY;"
   ]
  },
  {
   "cell_type": "code",
   "execution_count": 29,
   "metadata": {
    "collapsed": false
   },
   "outputs": [
    {
     "name": "stdout",
     "output_type": "stream",
     "text": [
      "Done.\n"
     ]
    },
    {
     "data": {
      "text/plain": [
       "[]"
      ]
     },
     "execution_count": 29,
     "metadata": {},
     "output_type": "execute_result"
    }
   ],
   "source": [
    "%%sql\n",
    "ALTER TABLE crime_facts ADD COLUMN DATE_KEY INTEGER;"
   ]
  },
  {
   "cell_type": "code",
   "execution_count": 30,
   "metadata": {
    "collapsed": false
   },
   "outputs": [
    {
     "name": "stdout",
     "output_type": "stream",
     "text": [
      "224710 rows affected.\n"
     ]
    },
    {
     "data": {
      "text/plain": [
       "[]"
      ]
     },
     "execution_count": 30,
     "metadata": {},
     "output_type": "execute_result"
    }
   ],
   "source": [
    "%%sql\n",
    "UPDATE crime_facts\n",
    "SET DATE_KEY = (SELECT DATE_KEY FROM date\n",
    "                WHERE date.REPORT_DATE = crime_facts.REPORT_DATE\n",
    "                AND date.OCCURRED_DATE = crime_facts.OCCURRED_DATE);"
   ]
  },
  {
   "cell_type": "code",
   "execution_count": 35,
   "metadata": {
    "collapsed": false
   },
   "outputs": [
    {
     "name": "stdout",
     "output_type": "stream",
     "text": [
      "1 rows affected.\n"
     ]
    },
    {
     "data": {
      "text/html": [
       "<table>\n",
       "    <tr>\n",
       "        <th>report_date</th>\n",
       "        <th>occurred_date</th>\n",
       "        <th>date_key</th>\n",
       "    </tr>\n",
       "    <tr>\n",
       "        <td>2015-07-26</td>\n",
       "        <td>2015-07-26</td>\n",
       "        <td>1998</td>\n",
       "    </tr>\n",
       "</table>"
      ],
      "text/plain": [
       "[(datetime.date(2015, 7, 26), datetime.date(2015, 7, 26), 1998)]"
      ]
     },
     "execution_count": 35,
     "metadata": {},
     "output_type": "execute_result"
    }
   ],
   "source": [
    "%%sql\n",
    "SELECT * FROM date\n",
    "where date_key = 1998;"
   ]
  },
  {
   "cell_type": "markdown",
   "metadata": {},
   "source": [
    "## Create facts table"
   ]
  },
  {
   "cell_type": "code",
   "execution_count": 32,
   "metadata": {
    "collapsed": false
   },
   "outputs": [
    {
     "name": "stdout",
     "output_type": "stream",
     "text": [
      "Done.\n",
      "Done.\n"
     ]
    },
    {
     "data": {
      "text/plain": [
       "[]"
      ]
     },
     "execution_count": 32,
     "metadata": {},
     "output_type": "execute_result"
    }
   ],
   "source": [
    "%%sql\n",
    "DROP TABLE IF EXISTS facts;\n",
    "CREATE TABLE facts(\n",
    "    REPORT_ID      INTEGER PRIMARY KEY,\n",
    "    CRIME_ID       CHAR(11),\n",
    "    DATE_KEY       INTEGER REFERENCES date (DATE_KEY),\n",
    "    ADDRESS_KEY    INTEGER REFERENCES address (ADDRESS_KEY),\n",
    "    IBR_KEY        INTEGER REFERENCES ibr (IBR_KEY)\n",
    ");"
   ]
  },
  {
   "cell_type": "code",
   "execution_count": 33,
   "metadata": {
    "collapsed": false
   },
   "outputs": [
    {
     "name": "stdout",
     "output_type": "stream",
     "text": [
      "224710 rows affected.\n"
     ]
    },
    {
     "data": {
      "text/plain": [
       "[]"
      ]
     },
     "execution_count": 33,
     "metadata": {},
     "output_type": "execute_result"
    }
   ],
   "source": [
    "%%sql\n",
    "INSERT INTO facts(REPORT_ID, CRIME_ID, DATE_KEY, ADDRESS_KEY, IBR_KEY)\n",
    "SELECT REPORT_ID, CRIME_ID, DATE_KEY, ADDRESS_KEY, IBR_KEY\n",
    "FROM crime_facts;"
   ]
  },
  {
   "cell_type": "code",
   "execution_count": 34,
   "metadata": {
    "collapsed": false,
    "scrolled": true
   },
   "outputs": [
    {
     "name": "stdout",
     "output_type": "stream",
     "text": [
      "5 rows affected.\n"
     ]
    },
    {
     "data": {
      "text/html": [
       "<table>\n",
       "    <tr>\n",
       "        <th>report_id</th>\n",
       "        <th>crime_id</th>\n",
       "        <th>date_key</th>\n",
       "        <th>address_key</th>\n",
       "        <th>ibr_key</th>\n",
       "    </tr>\n",
       "    <tr>\n",
       "        <td>59615</td>\n",
       "        <td>20152070672</td>\n",
       "        <td>1998</td>\n",
       "        <td>12068</td>\n",
       "        <td>1722</td>\n",
       "    </tr>\n",
       "    <tr>\n",
       "        <td>59904</td>\n",
       "        <td>20152060585</td>\n",
       "        <td>4491</td>\n",
       "        <td>9322</td>\n",
       "        <td>1976</td>\n",
       "    </tr>\n",
       "    <tr>\n",
       "        <td>59613</td>\n",
       "        <td>20152070223</td>\n",
       "        <td>1998</td>\n",
       "        <td>1541</td>\n",
       "        <td>1041</td>\n",
       "    </tr>\n",
       "    <tr>\n",
       "        <td>59614</td>\n",
       "        <td>20152070373</td>\n",
       "        <td>1998</td>\n",
       "        <td>1181</td>\n",
       "        <td>1891</td>\n",
       "    </tr>\n",
       "    <tr>\n",
       "        <td>59616</td>\n",
       "        <td>20152070016</td>\n",
       "        <td>1998</td>\n",
       "        <td>14507</td>\n",
       "        <td>182</td>\n",
       "    </tr>\n",
       "</table>"
      ],
      "text/plain": [
       "[(59615, '20152070672', 1998, 12068, 1722),\n",
       " (59904, '20152060585', 4491, 9322, 1976),\n",
       " (59613, '20152070223', 1998, 1541, 1041),\n",
       " (59614, '20152070373', 1998, 1181, 1891),\n",
       " (59616, '20152070016', 1998, 14507, 182)]"
      ]
     },
     "execution_count": 34,
     "metadata": {},
     "output_type": "execute_result"
    }
   ],
   "source": [
    "%%sql\n",
    "SELECT * FROM facts\n",
    "LIMIT 5;"
   ]
  },
  {
   "cell_type": "markdown",
   "metadata": {},
   "source": [
    "## Problem 4 - explore your data in its new schema (30 points)\n",
    "\n",
    "Strictly using the dimensional model tables you defined and populated for Problem 3, explore your data in its new form.  Use any of the query strategies we've seen in class, including transformations, aggregates, subqueries, rollups, and, of course, joins.  Add plots to highlight particular themes that stand out.  Describe your thinking and observations along the way."
   ]
  },
  {
   "cell_type": "markdown",
   "metadata": {},
   "source": [
    "**This star schema model can help users find crime records based on location or incident code. Since there's not fact in facts table that could be aggregated, we use count and group by to do the analysis.**"
   ]
  },
  {
   "cell_type": "code",
   "execution_count": 63,
   "metadata": {
    "collapsed": true
   },
   "outputs": [],
   "source": [
    "from pandas import DataFrame"
   ]
  },
  {
   "cell_type": "markdown",
   "metadata": {},
   "source": [
    "**Top 10 street with most crimes in Mesa**"
   ]
  },
  {
   "cell_type": "code",
   "execution_count": 47,
   "metadata": {
    "collapsed": false
   },
   "outputs": [
    {
     "name": "stdout",
     "output_type": "stream",
     "text": [
      "10 rows affected.\n"
     ]
    },
    {
     "data": {
      "text/html": [
       "<table>\n",
       "    <tr>\n",
       "        <th>street</th>\n",
       "        <th>count</th>\n",
       "    </tr>\n",
       "    <tr>\n",
       "        <td>E MAIN ST</td>\n",
       "        <td>10455</td>\n",
       "    </tr>\n",
       "    <tr>\n",
       "        <td>W MAIN ST</td>\n",
       "        <td>8382</td>\n",
       "    </tr>\n",
       "    <tr>\n",
       "        <td>S COUNTRY CLUB DR</td>\n",
       "        <td>7821</td>\n",
       "    </tr>\n",
       "    <tr>\n",
       "        <td>N ROBSON</td>\n",
       "        <td>7675</td>\n",
       "    </tr>\n",
       "    <tr>\n",
       "        <td>E BROADWAY RD</td>\n",
       "        <td>6566</td>\n",
       "    </tr>\n",
       "    <tr>\n",
       "        <td>S DOBSON RD</td>\n",
       "        <td>5981</td>\n",
       "    </tr>\n",
       "    <tr>\n",
       "        <td>E SOUTHERN AVE</td>\n",
       "        <td>5758</td>\n",
       "    </tr>\n",
       "    <tr>\n",
       "        <td>E UNIVERSITY DR</td>\n",
       "        <td>4511</td>\n",
       "    </tr>\n",
       "    <tr>\n",
       "        <td>N COUNTRY CLUB DR</td>\n",
       "        <td>4350</td>\n",
       "    </tr>\n",
       "    <tr>\n",
       "        <td>W SOUTHERN AVE</td>\n",
       "        <td>4060</td>\n",
       "    </tr>\n",
       "</table>"
      ],
      "text/plain": [
       "[('E MAIN ST', 10455),\n",
       " ('W MAIN ST', 8382),\n",
       " ('S COUNTRY CLUB DR', 7821),\n",
       " ('N ROBSON', 7675),\n",
       " ('E BROADWAY RD', 6566),\n",
       " ('S DOBSON RD', 5981),\n",
       " ('E SOUTHERN AVE', 5758),\n",
       " ('E UNIVERSITY DR', 4511),\n",
       " ('N COUNTRY CLUB DR', 4350),\n",
       " ('W SOUTHERN AVE', 4060)]"
      ]
     },
     "execution_count": 47,
     "metadata": {},
     "output_type": "execute_result"
    }
   ],
   "source": [
    "%%sql\n",
    "SELECT address.STREET, COUNT(facts.REPORT_ID) AS COUNT\n",
    "FROM address, facts\n",
    "WHERE address.ADDRESS_KEY = facts.ADDRESS_KEY AND address.CITY = 'MESA'\n",
    "GROUP BY address.STREET\n",
    "ORDER BY COUNT DESC\n",
    "LIMIT 10;"
   ]
  },
  {
   "cell_type": "code",
   "execution_count": 48,
   "metadata": {
    "collapsed": false
   },
   "outputs": [
    {
     "data": {
      "text/plain": [
       "<Container object of 10 artists>"
      ]
     },
     "execution_count": 48,
     "metadata": {},
     "output_type": "execute_result"
    },
    {
     "data": {
      "image/png": "[encoded data removed]",
      "text/plain": [
       "<matplotlib.figure.Figure at 0x7fd1696b73c8>"
      ]
     },
     "metadata": {},
     "output_type": "display_data"
    }
   ],
   "source": [
    "street = _\n",
    "street.bar()"
   ]
  },
  {
   "cell_type": "markdown",
   "metadata": {},
   "source": [
    "Incidents in E Main Street are much more than in other streets. Lets see what kind of crimes happened there"
   ]
  },
  {
   "cell_type": "code",
   "execution_count": 52,
   "metadata": {
    "collapsed": false
   },
   "outputs": [
    {
     "name": "stdout",
     "output_type": "stream",
     "text": [
      "10 rows affected.\n"
     ]
    },
    {
     "data": {
      "text/html": [
       "<table>\n",
       "    <tr>\n",
       "        <th>crime_type</th>\n",
       "        <th>count</th>\n",
       "    </tr>\n",
       "    <tr>\n",
       "        <td>WARRANT ARREST</td>\n",
       "        <td>924</td>\n",
       "    </tr>\n",
       "    <tr>\n",
       "        <td>THEFT</td>\n",
       "        <td>868</td>\n",
       "    </tr>\n",
       "    <tr>\n",
       "        <td>WARRANT ARREST-FOJ</td>\n",
       "        <td>852</td>\n",
       "    </tr>\n",
       "    <tr>\n",
       "        <td>POSSESSION OF DRUGS - NOT MARIJUANA</td>\n",
       "        <td>604</td>\n",
       "    </tr>\n",
       "    <tr>\n",
       "        <td>DRIVING UNDER INFLUENCE</td>\n",
       "        <td>481</td>\n",
       "    </tr>\n",
       "    <tr>\n",
       "        <td>TRESPASS</td>\n",
       "        <td>477</td>\n",
       "    </tr>\n",
       "    <tr>\n",
       "        <td>DRIVING ON SUSPENDED LICENSE</td>\n",
       "        <td>436</td>\n",
       "    </tr>\n",
       "    <tr>\n",
       "        <td>POSSESSION OF DRUG PARAPHERNALIA</td>\n",
       "        <td>434</td>\n",
       "    </tr>\n",
       "    <tr>\n",
       "        <td>ASSAULT</td>\n",
       "        <td>413</td>\n",
       "    </tr>\n",
       "    <tr>\n",
       "        <td>CRIMINAL DAMAGE</td>\n",
       "        <td>346</td>\n",
       "    </tr>\n",
       "</table>"
      ],
      "text/plain": [
       "[('WARRANT ARREST', 924),\n",
       " ('THEFT', 868),\n",
       " ('WARRANT ARREST-FOJ', 852),\n",
       " ('POSSESSION OF DRUGS - NOT MARIJUANA', 604),\n",
       " ('DRIVING UNDER INFLUENCE', 481),\n",
       " ('TRESPASS', 477),\n",
       " ('DRIVING ON SUSPENDED LICENSE', 436),\n",
       " ('POSSESSION OF DRUG PARAPHERNALIA', 434),\n",
       " ('ASSAULT', 413),\n",
       " ('CRIMINAL DAMAGE', 346)]"
      ]
     },
     "execution_count": 52,
     "metadata": {},
     "output_type": "execute_result"
    }
   ],
   "source": [
    "%%sql\n",
    "SELECT CRIME_TYPE, COUNT(facts.REPORT_ID) AS COUNT\n",
    "FROM address, facts, ibr\n",
    "WHERE address.ADDRESS_KEY = facts.ADDRESS_KEY\n",
    "      AND ibr.IBR_KEY = facts.IBR_KEY\n",
    "      AND address.STREET = 'E MAIN ST'\n",
    "GROUP BY CRIME_TYPE\n",
    "ORDER BY COUNT DESC\n",
    "LIMIT 10;"
   ]
  },
  {
   "cell_type": "markdown",
   "metadata": {},
   "source": [
    "The top three crime type in E MAIN ST are the same with that in whole dataset(problem 2). However, we noticed that crime related to drugs in this street is more frequent than average. 'POSSESSION OF DRUGS - NOT MARIJUANA' ranks 4th and 'POSSESSION OF DRUG PARAPHERNALIA' ranks 8th in this street, compare to 14th and 19th in whole dataset. Lets look at the streets with most drug violation."
   ]
  },
  {
   "cell_type": "code",
   "execution_count": 54,
   "metadata": {
    "collapsed": false
   },
   "outputs": [
    {
     "name": "stdout",
     "output_type": "stream",
     "text": [
      "5 rows affected.\n"
     ]
    },
    {
     "data": {
      "text/html": [
       "<table>\n",
       "    <tr>\n",
       "        <th>street</th>\n",
       "        <th>count</th>\n",
       "    </tr>\n",
       "    <tr>\n",
       "        <td>E MAIN ST</td>\n",
       "        <td>1619</td>\n",
       "    </tr>\n",
       "    <tr>\n",
       "        <td>S COUNTRY CLUB DR</td>\n",
       "        <td>1122</td>\n",
       "    </tr>\n",
       "    <tr>\n",
       "        <td>W MAIN ST</td>\n",
       "        <td>1026</td>\n",
       "    </tr>\n",
       "    <tr>\n",
       "        <td>E BROADWAY RD</td>\n",
       "        <td>776</td>\n",
       "    </tr>\n",
       "    <tr>\n",
       "        <td>S DOBSON RD</td>\n",
       "        <td>486</td>\n",
       "    </tr>\n",
       "</table>"
      ],
      "text/plain": [
       "[('E MAIN ST', 1619),\n",
       " ('S COUNTRY CLUB DR', 1122),\n",
       " ('W MAIN ST', 1026),\n",
       " ('E BROADWAY RD', 776),\n",
       " ('S DOBSON RD', 486)]"
      ]
     },
     "execution_count": 54,
     "metadata": {},
     "output_type": "execute_result"
    }
   ],
   "source": [
    "%%sql\n",
    "SELECT address.STREET, COUNT(facts.REPORT_ID) AS COUNT\n",
    "FROM address, facts, ibr\n",
    "WHERE address.ADDRESS_KEY = facts.ADDRESS_KEY \n",
    "      AND ibr.IBR_KEY = facts.IBR_KEY\n",
    "      AND ibr.IBRDESC LIKE '%DRUG%'\n",
    "GROUP BY address.STREET\n",
    "ORDER BY COUNT DESC\n",
    "LIMIT 5;"
   ]
  },
  {
   "cell_type": "markdown",
   "metadata": {},
   "source": [
    "E Main Street indeed is the street that drug violation happened most."
   ]
  },
  {
   "cell_type": "code",
   "execution_count": 60,
   "metadata": {
    "collapsed": false,
    "scrolled": true
   },
   "outputs": [
    {
     "name": "stdout",
     "output_type": "stream",
     "text": [
      "45 rows affected.\n"
     ]
    },
    {
     "data": {
      "text/html": [
       "<table>\n",
       "    <tr>\n",
       "        <th>yearmon</th>\n",
       "        <th>count</th>\n",
       "    </tr>\n",
       "    <tr>\n",
       "        <td>1111-01</td>\n",
       "        <td>316</td>\n",
       "    </tr>\n",
       "    <tr>\n",
       "        <td>2013-01</td>\n",
       "        <td>24</td>\n",
       "    </tr>\n",
       "    <tr>\n",
       "        <td>2013-02</td>\n",
       "        <td>323</td>\n",
       "    </tr>\n",
       "    <tr>\n",
       "        <td>2013-03</td>\n",
       "        <td>331</td>\n",
       "    </tr>\n",
       "    <tr>\n",
       "        <td>2013-04</td>\n",
       "        <td>352</td>\n",
       "    </tr>\n",
       "    <tr>\n",
       "        <td>2013-05</td>\n",
       "        <td>389</td>\n",
       "    </tr>\n",
       "    <tr>\n",
       "        <td>2013-06</td>\n",
       "        <td>344</td>\n",
       "    </tr>\n",
       "    <tr>\n",
       "        <td>2013-07</td>\n",
       "        <td>377</td>\n",
       "    </tr>\n",
       "    <tr>\n",
       "        <td>2013-08</td>\n",
       "        <td>407</td>\n",
       "    </tr>\n",
       "    <tr>\n",
       "        <td>2013-09</td>\n",
       "        <td>432</td>\n",
       "    </tr>\n",
       "    <tr>\n",
       "        <td>2013-10</td>\n",
       "        <td>409</td>\n",
       "    </tr>\n",
       "    <tr>\n",
       "        <td>2013-11</td>\n",
       "        <td>397</td>\n",
       "    </tr>\n",
       "    <tr>\n",
       "        <td>2013-12</td>\n",
       "        <td>384</td>\n",
       "    </tr>\n",
       "    <tr>\n",
       "        <td>2014-01</td>\n",
       "        <td>397</td>\n",
       "    </tr>\n",
       "    <tr>\n",
       "        <td>2014-02</td>\n",
       "        <td>345</td>\n",
       "    </tr>\n",
       "    <tr>\n",
       "        <td>2014-03</td>\n",
       "        <td>359</td>\n",
       "    </tr>\n",
       "    <tr>\n",
       "        <td>2014-04</td>\n",
       "        <td>377</td>\n",
       "    </tr>\n",
       "    <tr>\n",
       "        <td>2014-05</td>\n",
       "        <td>363</td>\n",
       "    </tr>\n",
       "    <tr>\n",
       "        <td>2014-06</td>\n",
       "        <td>370</td>\n",
       "    </tr>\n",
       "    <tr>\n",
       "        <td>2014-07</td>\n",
       "        <td>364</td>\n",
       "    </tr>\n",
       "    <tr>\n",
       "        <td>2014-08</td>\n",
       "        <td>383</td>\n",
       "    </tr>\n",
       "    <tr>\n",
       "        <td>2014-09</td>\n",
       "        <td>388</td>\n",
       "    </tr>\n",
       "    <tr>\n",
       "        <td>2014-10</td>\n",
       "        <td>441</td>\n",
       "    </tr>\n",
       "    <tr>\n",
       "        <td>2014-11</td>\n",
       "        <td>391</td>\n",
       "    </tr>\n",
       "    <tr>\n",
       "        <td>2014-12</td>\n",
       "        <td>466</td>\n",
       "    </tr>\n",
       "    <tr>\n",
       "        <td>2015-01</td>\n",
       "        <td>490</td>\n",
       "    </tr>\n",
       "    <tr>\n",
       "        <td>2015-02</td>\n",
       "        <td>461</td>\n",
       "    </tr>\n",
       "    <tr>\n",
       "        <td>2015-03</td>\n",
       "        <td>501</td>\n",
       "    </tr>\n",
       "    <tr>\n",
       "        <td>2015-04</td>\n",
       "        <td>503</td>\n",
       "    </tr>\n",
       "    <tr>\n",
       "        <td>2015-05</td>\n",
       "        <td>480</td>\n",
       "    </tr>\n",
       "    <tr>\n",
       "        <td>2015-06</td>\n",
       "        <td>453</td>\n",
       "    </tr>\n",
       "    <tr>\n",
       "        <td>2015-07</td>\n",
       "        <td>469</td>\n",
       "    </tr>\n",
       "    <tr>\n",
       "        <td>2015-08</td>\n",
       "        <td>444</td>\n",
       "    </tr>\n",
       "    <tr>\n",
       "        <td>2015-09</td>\n",
       "        <td>498</td>\n",
       "    </tr>\n",
       "    <tr>\n",
       "        <td>2015-10</td>\n",
       "        <td>500</td>\n",
       "    </tr>\n",
       "    <tr>\n",
       "        <td>2015-11</td>\n",
       "        <td>409</td>\n",
       "    </tr>\n",
       "    <tr>\n",
       "        <td>2015-12</td>\n",
       "        <td>432</td>\n",
       "    </tr>\n",
       "    <tr>\n",
       "        <td>2016-01</td>\n",
       "        <td>450</td>\n",
       "    </tr>\n",
       "    <tr>\n",
       "        <td>2016-02</td>\n",
       "        <td>423</td>\n",
       "    </tr>\n",
       "    <tr>\n",
       "        <td>2016-03</td>\n",
       "        <td>463</td>\n",
       "    </tr>\n",
       "    <tr>\n",
       "        <td>2016-04</td>\n",
       "        <td>402</td>\n",
       "    </tr>\n",
       "    <tr>\n",
       "        <td>2016-05</td>\n",
       "        <td>449</td>\n",
       "    </tr>\n",
       "    <tr>\n",
       "        <td>2016-06</td>\n",
       "        <td>402</td>\n",
       "    </tr>\n",
       "    <tr>\n",
       "        <td>2016-07</td>\n",
       "        <td>331</td>\n",
       "    </tr>\n",
       "    <tr>\n",
       "        <td>2016-08</td>\n",
       "        <td>394</td>\n",
       "    </tr>\n",
       "</table>"
      ],
      "text/plain": [
       "[('1111-01', 316),\n",
       " ('2013-01', 24),\n",
       " ('2013-02', 323),\n",
       " ('2013-03', 331),\n",
       " ('2013-04', 352),\n",
       " ('2013-05', 389),\n",
       " ('2013-06', 344),\n",
       " ('2013-07', 377),\n",
       " ('2013-08', 407),\n",
       " ('2013-09', 432),\n",
       " ('2013-10', 409),\n",
       " ('2013-11', 397),\n",
       " ('2013-12', 384),\n",
       " ('2014-01', 397),\n",
       " ('2014-02', 345),\n",
       " ('2014-03', 359),\n",
       " ('2014-04', 377),\n",
       " ('2014-05', 363),\n",
       " ('2014-06', 370),\n",
       " ('2014-07', 364),\n",
       " ('2014-08', 383),\n",
       " ('2014-09', 388),\n",
       " ('2014-10', 441),\n",
       " ('2014-11', 391),\n",
       " ('2014-12', 466),\n",
       " ('2015-01', 490),\n",
       " ('2015-02', 461),\n",
       " ('2015-03', 501),\n",
       " ('2015-04', 503),\n",
       " ('2015-05', 480),\n",
       " ('2015-06', 453),\n",
       " ('2015-07', 469),\n",
       " ('2015-08', 444),\n",
       " ('2015-09', 498),\n",
       " ('2015-10', 500),\n",
       " ('2015-11', 409),\n",
       " ('2015-12', 432),\n",
       " ('2016-01', 450),\n",
       " ('2016-02', 423),\n",
       " ('2016-03', 463),\n",
       " ('2016-04', 402),\n",
       " ('2016-05', 449),\n",
       " ('2016-06', 402),\n",
       " ('2016-07', 331),\n",
       " ('2016-08', 394)]"
      ]
     },
     "execution_count": 60,
     "metadata": {},
     "output_type": "execute_result"
    }
   ],
   "source": [
    "%%sql\n",
    "SELECT to_char(date.OCCURRED_DATE, 'YYYY-MM') AS YearMon, COUNT(facts.REPORT_ID) AS COUNT\n",
    "FROM facts, ibr, date\n",
    "WHERE date.DATE_KEY = facts.DATE_KEY\n",
    "      AND ibr.IBR_KEY = facts.IBR_KEY\n",
    "      AND ibr.IBRDESC LIKE '%DRUG%'\n",
    "GROUP BY YearMon\n",
    "ORDER BY YearMon;"
   ]
  },
  {
   "cell_type": "code",
   "execution_count": 64,
   "metadata": {
    "collapsed": false
   },
   "outputs": [],
   "source": [
    "freq = _\n",
    "df = pd.DataFrame.from_records(freq,columns=['yearmon', 'COUNT'], index = ['yearmon'])"
   ]
  },
  {
   "cell_type": "code",
   "execution_count": 67,
   "metadata": {
    "collapsed": false
   },
   "outputs": [
    {
     "data": {
      "text/plain": [
       "<matplotlib.axes._subplots.AxesSubplot at 0x7fd16687a278>"
      ]
     },
     "execution_count": 67,
     "metadata": {},
     "output_type": "execute_result"
    },
    {
     "data": {
      "image/png": "[encoded data removed]",
      "text/plain": [
       "<matplotlib.figure.Figure at 0x7fd1668b4048>"
      ]
     },
     "metadata": {},
     "output_type": "display_data"
    }
   ],
   "source": [
    "df.plot.bar(figsize=(12,5))"
   ]
  },
  {
   "cell_type": "code",
   "execution_count": 73,
   "metadata": {
    "collapsed": false
   },
   "outputs": [
    {
     "name": "stdout",
     "output_type": "stream",
     "text": [
      "4 rows affected.\n"
     ]
    },
    {
     "data": {
      "text/html": [
       "<table>\n",
       "    <tr>\n",
       "        <th>year</th>\n",
       "        <th>count</th>\n",
       "    </tr>\n",
       "    <tr>\n",
       "        <td>2013</td>\n",
       "        <td>4169</td>\n",
       "    </tr>\n",
       "    <tr>\n",
       "        <td>2014</td>\n",
       "        <td>4644</td>\n",
       "    </tr>\n",
       "    <tr>\n",
       "        <td>2015</td>\n",
       "        <td>5640</td>\n",
       "    </tr>\n",
       "    <tr>\n",
       "        <td>2016</td>\n",
       "        <td>3314</td>\n",
       "    </tr>\n",
       "</table>"
      ],
      "text/plain": [
       "[('2013', 4169), ('2014', 4644), ('2015', 5640), ('2016', 3314)]"
      ]
     },
     "execution_count": 73,
     "metadata": {},
     "output_type": "execute_result"
    }
   ],
   "source": [
    "%%sql\n",
    "SELECT to_char(date.OCCURRED_DATE, 'YYYY') AS Year, COUNT(facts.REPORT_ID) AS COUNT\n",
    "FROM facts, ibr, date\n",
    "WHERE date.DATE_KEY = facts.DATE_KEY\n",
    "      AND ibr.IBR_KEY = facts.IBR_KEY\n",
    "      AND ibr.IBRDESC LIKE '%DRUG%'\n",
    "      AND date.OCCURRED_DATE > '1111-01-01'\n",
    "GROUP BY Year\n",
    "ORDER BY Year;"
   ]
  },
  {
   "cell_type": "code",
   "execution_count": 74,
   "metadata": {
    "collapsed": false
   },
   "outputs": [
    {
     "data": {
      "text/plain": [
       "<Container object of 4 artists>"
      ]
     },
     "execution_count": 74,
     "metadata": {},
     "output_type": "execute_result"
    },
    {
     "data": {
      "image/png": "[encoded data removed]",
      "text/plain": [
       "<matplotlib.figure.Figure at 0x7fd16690aba8>"
      ]
     },
     "metadata": {},
     "output_type": "display_data"
    }
   ],
   "source": [
    "year = _\n",
    "year.bar()"
   ]
  },
  {
   "cell_type": "code",
   "execution_count": 79,
   "metadata": {
    "collapsed": false
   },
   "outputs": [
    {
     "name": "stdout",
     "output_type": "stream",
     "text": [
      "12 rows affected.\n"
     ]
    },
    {
     "data": {
      "text/html": [
       "<table>\n",
       "    <tr>\n",
       "        <th>month</th>\n",
       "        <th>count</th>\n",
       "    </tr>\n",
       "    <tr>\n",
       "        <td>01</td>\n",
       "        <td>911</td>\n",
       "    </tr>\n",
       "    <tr>\n",
       "        <td>02</td>\n",
       "        <td>1129</td>\n",
       "    </tr>\n",
       "    <tr>\n",
       "        <td>03</td>\n",
       "        <td>1191</td>\n",
       "    </tr>\n",
       "    <tr>\n",
       "        <td>04</td>\n",
       "        <td>1232</td>\n",
       "    </tr>\n",
       "    <tr>\n",
       "        <td>05</td>\n",
       "        <td>1232</td>\n",
       "    </tr>\n",
       "    <tr>\n",
       "        <td>06</td>\n",
       "        <td>1167</td>\n",
       "    </tr>\n",
       "    <tr>\n",
       "        <td>07</td>\n",
       "        <td>1210</td>\n",
       "    </tr>\n",
       "    <tr>\n",
       "        <td>08</td>\n",
       "        <td>1234</td>\n",
       "    </tr>\n",
       "    <tr>\n",
       "        <td>09</td>\n",
       "        <td>1318</td>\n",
       "    </tr>\n",
       "    <tr>\n",
       "        <td>10</td>\n",
       "        <td>1350</td>\n",
       "    </tr>\n",
       "    <tr>\n",
       "        <td>11</td>\n",
       "        <td>1197</td>\n",
       "    </tr>\n",
       "    <tr>\n",
       "        <td>12</td>\n",
       "        <td>1282</td>\n",
       "    </tr>\n",
       "</table>"
      ],
      "text/plain": [
       "[('01', 911),\n",
       " ('02', 1129),\n",
       " ('03', 1191),\n",
       " ('04', 1232),\n",
       " ('05', 1232),\n",
       " ('06', 1167),\n",
       " ('07', 1210),\n",
       " ('08', 1234),\n",
       " ('09', 1318),\n",
       " ('10', 1350),\n",
       " ('11', 1197),\n",
       " ('12', 1282)]"
      ]
     },
     "execution_count": 79,
     "metadata": {},
     "output_type": "execute_result"
    }
   ],
   "source": [
    "%%sql\n",
    "SELECT to_char(date.OCCURRED_DATE, 'MM') AS month, COUNT(facts.REPORT_ID) AS COUNT\n",
    "FROM facts, ibr, date\n",
    "WHERE date.DATE_KEY = facts.DATE_KEY\n",
    "      AND ibr.IBR_KEY = facts.IBR_KEY\n",
    "      AND ibr.IBRDESC LIKE '%DRUG%'\n",
    "      AND date.OCCURRED_DATE BETWEEN '2013-01-01' and '2015-12-31'\n",
    "GROUP BY month\n",
    "ORDER BY month;"
   ]
  },
  {
   "cell_type": "code",
   "execution_count": 80,
   "metadata": {
    "collapsed": false
   },
   "outputs": [
    {
     "data": {
      "text/plain": [
       "<Container object of 12 artists>"
      ]
     },
     "execution_count": 80,
     "metadata": {},
     "output_type": "execute_result"
    },
    {
     "data": {
      "image/png": "[encoded data removed]",
      "text/plain": [
       "<matplotlib.figure.Figure at 0x7fd1661cecc0>"
      ]
     },
     "metadata": {},
     "output_type": "display_data"
    }
   ],
   "source": [
    "mon = _\n",
    "mon.bar()"
   ]
  },
  {
   "cell_type": "markdown",
   "metadata": {},
   "source": [
    "Drug violation happended a bit more in Semptember, October, and December. And number of drug related crime rised each year. Early data not recorded may be a cause of that. Drud related incidents count is really low in 2013-01. There may be missing data. Also we only have three year's complete data which is not enough to draw a convincing conclusion."
   ]
  },
  {
   "cell_type": "markdown",
   "metadata": {},
   "source": [
    "## Bonus (10 points for one of A or B)\n",
    "\n",
    "\n",
    "### Option A - Automating ETL\n",
    "\n",
    "Consider the work you did to load your original raw dataset and then transform it into a dimensional model for analysis.  What would it take to automate this process?  How often would you need to update the data?  Could you easily automate any data cleaning steps?  What checks would you need to put in place to ensure quality?  Would humans need to be involved, or could you automate it all?\n",
    "\n",
    "Discuss.\n",
    "\n",
    "\n",
    "### Option B - Augmenting dimensions\n",
    "\n",
    "Considering your dimensional model, what external data could you find to augment it?  As in the case of bike trips, where weather might provide an interesting added dimension/context not present in the original data, you can probably find another source of data to complement your own model.  Identify one such source and add it to your model, demonstrating its value with a few new queries."
   ]
  },
  {
   "cell_type": "markdown",
   "metadata": {},
   "source": [
    "## Contribution\n",
    "We worked together to choose a dataset and design the star schema.               \n",
    "**Qinya Wang** wrote the part that loaded data and created tables.                                 \n",
    "**Tianweibao Zheng** wrote analysis queries and most of the markdown cells.    \n",
    "We attest that each of us contributed substantially to the project."
   ]
  },
  {
   "cell_type": "code",
   "execution_count": null,
   "metadata": {
    "collapsed": true
   },
   "outputs": [],
   "source": []
  }
 ],
 "metadata": {
  "anaconda-cloud": {},
  "kernelspec": {
   "display_name": "Python 3",
   "language": "python",
   "name": "python3"
  },
  "language_info": {
   "codemirror_mode": {
    "name": "ipython",
    "version": 3
   },
   "file_extension": ".py",
   "mimetype": "text/x-python",
   "name": "python",
   "nbconvert_exporter": "python",
   "pygments_lexer": "ipython3",
   "version": "3.5.2"
  }
 },
 "nbformat": 4,
 "nbformat_minor": 1
}
